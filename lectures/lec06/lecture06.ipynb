{
 "cells": [
  {
   "cell_type": "code",
   "execution_count": null,
   "metadata": {
    "slideshow": {
     "slide_type": "skip"
    }
   },
   "outputs": [],
   "source": [
    "import babypandas as bpd\n",
    "import numpy as np"
   ]
  },
  {
   "cell_type": "markdown",
   "metadata": {
    "slideshow": {
     "slide_type": "slide"
    }
   },
   "source": [
    "# Lecture 6 –  More Querying and GroupBy\n",
    "## DSC 10, Spring 2022"
   ]
  },
  {
   "cell_type": "markdown",
   "metadata": {
    "slideshow": {
     "slide_type": "slide"
    }
   },
   "source": [
    "### Announcements\n",
    "\n",
    "- Lab 2 is due **tomorrow at 11:59pm**.\n",
    "- Homework 2 is due on **Tuesday 4/12 at 11:59pm**."
   ]
  },
  {
   "cell_type": "markdown",
   "metadata": {
    "slideshow": {
     "slide_type": "slide"
    }
   },
   "source": [
    "### Agenda\n",
    "\n",
    "- Recap: queries.\n",
    "- Writing queries with multiple conditions.\n",
    "- GroupBy.\n",
    "- Challenge problems.\n",
    "\n",
    "**Resources**: \n",
    "- [Resources tab of the course website](https://dsc10.com/resources/)\n",
    "- [DSC 10 Reference Sheet](https://drive.google.com/file/d/1mQApk9Ovdi-QVqMgnNcq5dZcWucUKoG-/view)\n",
    "- [BabyPandas Documentation](https://babypandas.readthedocs.io/en/latest/index.html)"
   ]
  },
  {
   "cell_type": "markdown",
   "metadata": {
    "slideshow": {
     "slide_type": "slide"
    }
   },
   "source": [
    "## Recap: queries"
   ]
  },
  {
   "cell_type": "markdown",
   "metadata": {
    "slideshow": {
     "slide_type": "slide"
    }
   },
   "source": [
    "### Recap: queries\n",
    "\n",
    "- A \"query\" is code that extracts rows from a table for which certain condition(s) are true.\n",
    "- Below we load in our NBA salaries 🏀 dataset from last time."
   ]
  },
  {
   "cell_type": "code",
   "execution_count": null,
   "metadata": {},
   "outputs": [],
   "source": [
    "salaries = bpd.read_csv('data/nba-2022.csv').set_index('Player')\n",
    "salaries"
   ]
  },
  {
   "cell_type": "markdown",
   "metadata": {
    "slideshow": {
     "slide_type": "slide"
    }
   },
   "source": [
    "### Question: Who is the highest-paid player on the Houston Rockets? 🚀"
   ]
  },
  {
   "cell_type": "code",
   "execution_count": null,
   "metadata": {},
   "outputs": [],
   "source": [
    "salaries.get('Team') == 'Houston Rockets'"
   ]
  },
  {
   "cell_type": "code",
   "execution_count": null,
   "metadata": {},
   "outputs": [],
   "source": [
    "rockets = ...\n",
    "rockets"
   ]
  },
  {
   "cell_type": "code",
   "execution_count": null,
   "metadata": {},
   "outputs": [],
   "source": [
    "# Find highest-paid player\n",
    "..."
   ]
  },
  {
   "cell_type": "markdown",
   "metadata": {
    "slideshow": {
     "slide_type": "slide"
    }
   },
   "source": [
    "### Boolean indexing\n",
    "\n",
    "To select only some rows of `salaries`:\n",
    "\n",
    "1. Make a sequence (list/array/Series) of `True`s (keep) and `False`s (toss).\n",
    "    - The values `True` and `False` are of the _Boolean_ data type.\n",
    "2. Then pass it into `salaries[sequence_goes_here]`.\n",
    "\n",
    "Rather than making the sequence by hand, we usually generate it by making a comparison."
   ]
  },
  {
   "cell_type": "markdown",
   "metadata": {
    "slideshow": {
     "slide_type": "slide"
    }
   },
   "source": [
    "### Elementwise comparisons\n",
    "\n",
    "There are several types of comparisons we can make.\n",
    "\n",
    "|symbol|meaning|\n",
    "|--------|--------|\n",
    "|`==` |equal to |\n",
    "|`!=` |not equal to |\n",
    "|`<`|less than|\n",
    "|`<=`|less than or equal to|\n",
    "|`>`|greater than|\n",
    "|`>=`|greater than or equal to|"
   ]
  },
  {
   "cell_type": "code",
   "execution_count": null,
   "metadata": {},
   "outputs": [],
   "source": [
    "# Find all players whose salary is at least 20 million\n",
    "..."
   ]
  },
  {
   "cell_type": "markdown",
   "metadata": {
    "slideshow": {
     "slide_type": "slide"
    }
   },
   "source": [
    "## Queries with multiple conditions"
   ]
  },
  {
   "cell_type": "markdown",
   "metadata": {
    "slideshow": {
     "slide_type": "slide"
    }
   },
   "source": [
    "### Multiple conditions\n",
    "\n",
    "- To do a query with multiple conditions, use `&` for \"and\" and `|` for \"or\".\n",
    "- **Must use parentheses around each query.**\n",
    "- Note: Don't use the Python keywords `and` and `or` here! They do not behave as you'd want.\n",
    "    - Read the course notes for an explanation."
   ]
  },
  {
   "cell_type": "code",
   "execution_count": null,
   "metadata": {
    "scrolled": false
   },
   "outputs": [],
   "source": [
    "# Find all players who are guards (point guards or shooting guards)\n",
    "salaries[(salaries.get('Position') == 'PG') | (salaries.get('Position') == 'SG')]"
   ]
  },
  {
   "cell_type": "markdown",
   "metadata": {
    "slideshow": {
     "slide_type": "slide"
    }
   },
   "source": [
    "### The `&` and `|` operators work element-wise"
   ]
  },
  {
   "cell_type": "code",
   "execution_count": null,
   "metadata": {},
   "outputs": [],
   "source": [
    "(salaries.get('Position') == 'PG')"
   ]
  },
  {
   "cell_type": "code",
   "execution_count": null,
   "metadata": {},
   "outputs": [],
   "source": [
    "(salaries.get('Position') == 'SG')"
   ]
  },
  {
   "cell_type": "code",
   "execution_count": null,
   "metadata": {},
   "outputs": [],
   "source": [
    "(salaries.get('Position') == 'PG') | (salaries.get('Position') == 'SG')"
   ]
  },
  {
   "cell_type": "markdown",
   "metadata": {
    "slideshow": {
     "slide_type": "slide"
    }
   },
   "source": [
    "### Question: Which Power Forwards (PF) on the Sacramento Kings have a salary of over 8 million? 👑"
   ]
  },
  {
   "cell_type": "code",
   "execution_count": null,
   "metadata": {},
   "outputs": [],
   "source": [
    "salaries[(salaries.get('Position') == 'PF') & \n",
    "         (salaries.get('Team') == 'Sacramento Kings') & \n",
    "         (salaries.get('Salary') > 8000000)]"
   ]
  },
  {
   "cell_type": "markdown",
   "metadata": {
    "slideshow": {
     "slide_type": "slide"
    }
   },
   "source": [
    "### Discussion Question\n",
    "\n",
    "Which query creates a DataFrame of all the centers (C) **besides** Dwight Howard?\n",
    "\n",
    "A. `salaries[(salaries.get('Position') == 'C') & (salaries.get('Player') != 'Dwight Howard')]`\n",
    "\n",
    "B. `salaries[(salaries.get('Position') == 'C') and (salaries.index != 'Dwight Howard')]`\n",
    "\n",
    "C. `salaries[(salaries.get('Position') == 'C') & (salaries.index != 'Dwight Howard')]`\n",
    "\n",
    "### To answer, go to **[menti.com](https://menti.com)** and enter the code **3917 8034** or [click here](https://www.menti.com/zzeansgf8g)."
   ]
  },
  {
   "cell_type": "code",
   "execution_count": null,
   "metadata": {
    "slideshow": {
     "slide_type": "slide"
    }
   },
   "outputs": [],
   "source": [
    "..."
   ]
  },
  {
   "cell_type": "markdown",
   "metadata": {
    "slideshow": {
     "slide_type": "slide"
    }
   },
   "source": [
    "## GroupBy: Split, Aggregate, Combine"
   ]
  },
  {
   "cell_type": "markdown",
   "metadata": {
    "slideshow": {
     "slide_type": "slide"
    }
   },
   "source": [
    "### Question: Which team had the highest payroll?\n",
    "\n",
    "- We can find the payroll for any one team.\n",
    "    - For example, `salaries[salaries.get('Team') == 'Golden State Warriors'].get('Salary').sum()`.\n",
    "- But how can we find the payroll for **all** teams at once?"
   ]
  },
  {
   "cell_type": "code",
   "execution_count": null,
   "metadata": {
    "scrolled": true,
    "slideshow": {
     "slide_type": "slide"
    }
   },
   "outputs": [],
   "source": [
    "salaries"
   ]
  },
  {
   "cell_type": "code",
   "execution_count": null,
   "metadata": {
    "slideshow": {
     "slide_type": "-"
    }
   },
   "outputs": [],
   "source": [
    "salaries[salaries.get('Team') == 'Golden State Warriors'].get('Salary').sum()"
   ]
  },
  {
   "cell_type": "code",
   "execution_count": null,
   "metadata": {
    "slideshow": {
     "slide_type": "-"
    }
   },
   "outputs": [],
   "source": [
    "salaries[salaries.get('Team') == 'Los Angeles Lakers'].get('Salary').sum()"
   ]
  },
  {
   "cell_type": "code",
   "execution_count": null,
   "metadata": {
    "slideshow": {
     "slide_type": "-"
    }
   },
   "outputs": [],
   "source": [
    "salaries[salaries.get('Team') == 'Brooklyn Nets'].get('Salary').sum()"
   ]
  },
  {
   "cell_type": "markdown",
   "metadata": {
    "slideshow": {
     "slide_type": "fragment"
    }
   },
   "source": [
    "It seems like there has to be a better way. And there is!"
   ]
  },
  {
   "cell_type": "markdown",
   "metadata": {
    "slideshow": {
     "slide_type": "slide"
    }
   },
   "source": [
    "### `.groupby`\n",
    "\n",
    "Observe what happens when we use the `.groupby` method on `salaries` with the argument `'Team'`:"
   ]
  },
  {
   "cell_type": "code",
   "execution_count": null,
   "metadata": {
    "slideshow": {
     "slide_type": "-"
    }
   },
   "outputs": [],
   "source": [
    "salaries.groupby('Team').sum()"
   ]
  },
  {
   "cell_type": "markdown",
   "metadata": {
    "slideshow": {
     "slide_type": "slide"
    }
   },
   "source": [
    "### An Illustrative Example: Pets 🐱 🐶🐹\n",
    "\n",
    "Consider the DataFrame `pets` containing pet species, colors, and weights.\n",
    "\n",
    "<div align=center>\n",
    "<img src='images/pets.png' width=200>\n",
    "</div>\n",
    "\n",
    "📢 Shoutout to Kodah, Chilli, Fluffles, and Max."
   ]
  },
  {
   "cell_type": "code",
   "execution_count": null,
   "metadata": {},
   "outputs": [],
   "source": [
    "pets = bpd.DataFrame().assign(\n",
    "    Species=['dog', 'cat', 'cat', 'dog', 'dog', 'hamster'],\n",
    "    Color=['black', 'golden', 'black', 'white', 'golden', 'golden'],\n",
    "    Weight=[40, 15, 20, 80, 25, 1]\n",
    ")\n",
    "\n",
    "pets"
   ]
  },
  {
   "cell_type": "code",
   "execution_count": null,
   "metadata": {
    "scrolled": true
   },
   "outputs": [],
   "source": [
    "pets.groupby('Species').mean()"
   ]
  },
  {
   "cell_type": "markdown",
   "metadata": {
    "slideshow": {
     "slide_type": "slide"
    }
   },
   "source": [
    "### Visualizing `pets.groupby('Species').mean()`\n",
    "\n",
    "- [Pandas Tutor](https://pandastutor.com/vis.html#code=import%20pandas%20as%20pd%0A%0Apets%20%3D%20pd.DataFrame%28%29.assign%28%0A%20%20%20%20Species%3D%5B'dog',%20'cat',%20'cat',%20'dog',%20'dog',%20'hamster'%5D,%0A%20%20%20%20Color%3D%5B'black',%20'golden',%20'black',%20'white',%20'golden',%20'golden'%5D,%0A%20%20%20%20Weight%3D%5B40,%2015,%2020,%2080,%2025,%201%5D%0A%29%0A%0Apets.groupby%28'Species'%29.mean%28%29&d=2022-04-06&lang=py&v=v1) is a great visualization tool to see what's happening under the hood\n",
    "    - Uses `pandas` instead of `babypandas`\n",
    "    - [Try it on our pet example!](https://pandastutor.com/vis.html#code=import%20pandas%20as%20pd%0A%0Apets%20%3D%20pd.DataFrame%28%29.assign%28%0A%20%20%20%20Species%3D%5B'dog',%20'cat',%20'cat',%20'dog',%20'dog',%20'hamster'%5D,%0A%20%20%20%20Color%3D%5B'black',%20'golden',%20'black',%20'white',%20'golden',%20'golden'%5D,%0A%20%20%20%20Weight%3D%5B40,%2015,%2020,%2080,%2025,%201%5D%0A%29%0A%0Apets.groupby%28'Species'%29.mean%28%29&d=2022-04-06&lang=py&v=v1)\n",
    "\n",
    "- 3 steps for `.groupby`\n",
    "    1. Split\n",
    "    2. Aggregate\n",
    "    3. Combine"
   ]
  },
  {
   "cell_type": "markdown",
   "metadata": {
    "slideshow": {
     "slide_type": "slide"
    }
   },
   "source": [
    "### Back to the NBA... 🏀"
   ]
  },
  {
   "cell_type": "code",
   "execution_count": null,
   "metadata": {},
   "outputs": [],
   "source": [
    "salaries"
   ]
  },
  {
   "cell_type": "code",
   "execution_count": null,
   "metadata": {},
   "outputs": [],
   "source": [
    "salaries.groupby('Team').sum()"
   ]
  },
  {
   "cell_type": "markdown",
   "metadata": {
    "slideshow": {
     "slide_type": "slide"
    }
   },
   "source": [
    "### `.groupby` in general\n",
    "\n",
    "1. Use `.groupby(column_name)` to gather rows which have the same value in the specified column (`column_name`).\n",
    "    - In the previous example, we grouped by `'Team'`.\n",
    "    - In the resulting DataFrame, there will be one row for every unique value of `'Team'`.\n",
    "2. Apply an **aggregation** method **within** each group.\n",
    "    - In the previous example, we applied the `sum` method to every `'Team'`.\n",
    "    - The aggregation method is applied individually to each column.\n",
    "\n",
    "Some aggregation methods: `.count()`, `.sum()`, `.mean()`, `.median()`, `.max()`, `.min()`."
   ]
  },
  {
   "cell_type": "markdown",
   "metadata": {
    "slideshow": {
     "slide_type": "slide"
    }
   },
   "source": [
    "### Observation #1\n",
    "\n",
    "- The index has changed to team names.\n",
    "- In general, the new row labels are the *group labels* (the thing that is used to determine if two rows were in same group)."
   ]
  },
  {
   "cell_type": "code",
   "execution_count": null,
   "metadata": {},
   "outputs": [],
   "source": [
    "salaries"
   ]
  },
  {
   "cell_type": "code",
   "execution_count": null,
   "metadata": {},
   "outputs": [],
   "source": [
    "salaries.groupby('Team').sum()"
   ]
  },
  {
   "cell_type": "markdown",
   "metadata": {
    "slideshow": {
     "slide_type": "slide"
    }
   },
   "source": [
    "### Observation #2\n",
    "\n",
    "- The `'Position'` and `'Team'` columns have disappeared. Why?"
   ]
  },
  {
   "cell_type": "code",
   "execution_count": null,
   "metadata": {},
   "outputs": [],
   "source": [
    "salaries.groupby('Team').sum()"
   ]
  },
  {
   "cell_type": "markdown",
   "metadata": {
    "slideshow": {
     "slide_type": "slide"
    }
   },
   "source": [
    "### Disappearing columns ✨🐇🎩  \n",
    "\n",
    "- The aggregation method is applied to each column.\n",
    "- If it doesn't make sense to apply it to a particular column, that column will disappear.\n",
    "- Example: We can't sum strings, like in the `'Position'` column.\n",
    "- Surprising example: we *can* `max()` strings. How?"
   ]
  },
  {
   "cell_type": "code",
   "execution_count": null,
   "metadata": {},
   "outputs": [],
   "source": [
    "salaries.groupby('Team').max() # Can you guess how the max position is determined?"
   ]
  },
  {
   "cell_type": "markdown",
   "metadata": {
    "slideshow": {
     "slide_type": "slide"
    }
   },
   "source": [
    "### Other aggregation methods\n",
    "\n",
    "- Aggregation methods work on arrays/lists/Series and return a single number.\n",
    "- The most common ones are `.count()`, `.sum()`, `.mean()`, `.median()`, `.max()`, and `.min()`.\n"
   ]
  },
  {
   "cell_type": "code",
   "execution_count": null,
   "metadata": {},
   "outputs": [],
   "source": [
    "salaries.groupby('Team').count()"
   ]
  },
  {
   "cell_type": "code",
   "execution_count": null,
   "metadata": {},
   "outputs": [],
   "source": [
    "salaries.groupby('Team').mean()"
   ]
  },
  {
   "cell_type": "markdown",
   "metadata": {
    "slideshow": {
     "slide_type": "slide"
    }
   },
   "source": [
    "### Question: Which team had the highest payroll? "
   ]
  },
  {
   "cell_type": "code",
   "execution_count": null,
   "metadata": {},
   "outputs": [],
   "source": [
    "..."
   ]
  },
  {
   "cell_type": "markdown",
   "metadata": {
    "slideshow": {
     "slide_type": "slide"
    }
   },
   "source": [
    "### Question: How many players play each position?"
   ]
  },
  {
   "cell_type": "code",
   "execution_count": null,
   "metadata": {},
   "outputs": [],
   "source": [
    "..."
   ]
  },
  {
   "cell_type": "markdown",
   "metadata": {
    "slideshow": {
     "slide_type": "slide"
    }
   },
   "source": [
    "### Aside: Better column names?\n",
    "\n",
    "To rename a column:\n",
    "\n",
    "1. Add a new column with `.assign` containing the same values as the old column(s).\n",
    "2. Drop the old column(s) with `.drop(columns=list_of_column_labels)`."
   ]
  },
  {
   "cell_type": "code",
   "execution_count": null,
   "metadata": {},
   "outputs": [],
   "source": [
    "position_counts = salaries.groupby('Position').count()\n",
    "position_counts"
   ]
  },
  {
   "cell_type": "code",
   "execution_count": null,
   "metadata": {},
   "outputs": [],
   "source": [
    "position_counts = position_counts.assign(Count=position_counts.get('Team')).drop(columns=['Team', 'Salary'])\n",
    "position_counts"
   ]
  },
  {
   "cell_type": "markdown",
   "metadata": {
    "slideshow": {
     "slide_type": "slide"
    }
   },
   "source": [
    "## Example: IMDb Dataset 🎞️"
   ]
  },
  {
   "cell_type": "markdown",
   "metadata": {
    "slideshow": {
     "slide_type": "-"
    }
   },
   "source": [
    "<center>\n",
    "<img width=80% src=\"images/imdb.png\"/>\n",
    "</center>"
   ]
  },
  {
   "cell_type": "code",
   "execution_count": null,
   "metadata": {
    "slideshow": {
     "slide_type": "slide"
    }
   },
   "outputs": [],
   "source": [
    "imdb = bpd.read_csv('data/imdb.csv').set_index('Title').sort_values(by='Rating')\n",
    "imdb"
   ]
  },
  {
   "cell_type": "markdown",
   "metadata": {
    "slideshow": {
     "slide_type": "slide"
    }
   },
   "source": [
    "### Question: How many movies appear from each decade?"
   ]
  },
  {
   "cell_type": "code",
   "execution_count": null,
   "metadata": {},
   "outputs": [],
   "source": [
    "imdb.groupby('Decade').count()"
   ]
  },
  {
   "cell_type": "code",
   "execution_count": null,
   "metadata": {
    "scrolled": true
   },
   "outputs": [],
   "source": [
    "imdb.groupby('Decade').count().plot(y='Year');"
   ]
  },
  {
   "cell_type": "markdown",
   "metadata": {
    "slideshow": {
     "slide_type": "slide"
    }
   },
   "source": [
    "### Question: What was the highest rated movie of the 1990's?\n",
    "\n",
    "Let's try and do this two different ways."
   ]
  },
  {
   "cell_type": "markdown",
   "metadata": {
    "slideshow": {
     "slide_type": "slide"
    }
   },
   "source": [
    "#### Without grouping"
   ]
  },
  {
   "cell_type": "code",
   "execution_count": null,
   "metadata": {},
   "outputs": [],
   "source": [
    "imdb[imdb.get('Decade') == 1990].sort_values('Rating', ascending=False).index[0]"
   ]
  },
  {
   "cell_type": "markdown",
   "metadata": {
    "slideshow": {
     "slide_type": "slide"
    }
   },
   "source": [
    "#### With grouping"
   ]
  },
  {
   "cell_type": "code",
   "execution_count": null,
   "metadata": {},
   "outputs": [],
   "source": [
    "imdb.reset_index().groupby('Decade').max()"
   ]
  },
  {
   "cell_type": "markdown",
   "metadata": {
    "slideshow": {
     "slide_type": "fragment"
    }
   },
   "source": [
    "- It turns out that this method **does not** yield the correct answer. \n",
    "- When we use an aggregation function (e.g. `.max`), aggregation is done to each column individually. \n",
    "- While it's true that the highest rated movie from the 1990s has a rating of 9.2, that movie is **not** Unforgiven – instead, Unforgiven is the movie that's the latest in the alphabet among all movies from the 1990s.\n",
    "- Grouping is not helpful here."
   ]
  },
  {
   "cell_type": "markdown",
   "metadata": {
    "slideshow": {
     "slide_type": "slide"
    }
   },
   "source": [
    "## Challenge Problems\n",
    "\n",
    "We won't cover these problems in class, but they're here for you to practice with some harder examples. To access the solutions, you'll either need to\n",
    "1. Watch [this solution walkthrough video](https://youtu.be/xg7rnjWnZ48) or\n",
    "2. Find [written solutions on Campuswire](https://campuswire.com/c/GF871D922/feed) on Monday.\n",
    "\n",
    "Before accessing the solutions, **make sure to try these problems on your own** – they're great prep for homeworks and projects!"
   ]
  },
  {
   "cell_type": "markdown",
   "metadata": {
    "slideshow": {
     "slide_type": "slide"
    }
   },
   "source": [
    "### Question: How many years have more than 3 movies rated above 8.5?"
   ]
  },
  {
   "cell_type": "code",
   "execution_count": null,
   "metadata": {},
   "outputs": [],
   "source": [
    "..."
   ]
  },
  {
   "cell_type": "markdown",
   "metadata": {
    "slideshow": {
     "slide_type": "slide"
    }
   },
   "source": [
    "#### Aside: Using `.sum()` on a boolean array\n",
    "\n",
    "- Summing a boolean array gives a count of the number of `True` elements because Python treats `True` as 1 and `False` as 0. \n",
    "- Can you use that fact here?"
   ]
  },
  {
   "cell_type": "code",
   "execution_count": null,
   "metadata": {},
   "outputs": [],
   "source": []
  },
  {
   "cell_type": "markdown",
   "metadata": {
    "slideshow": {
     "slide_type": "slide"
    }
   },
   "source": [
    "### Question: Out of the years with more than 3 movies, which had the highest average rating?"
   ]
  },
  {
   "cell_type": "code",
   "execution_count": null,
   "metadata": {},
   "outputs": [],
   "source": [
    "..."
   ]
  },
  {
   "cell_type": "markdown",
   "metadata": {
    "slideshow": {
     "slide_type": "slide"
    }
   },
   "source": [
    "### Question: Which year had the longest movie titles, on average?\n",
    "\n",
    "**Hint:** Use `.str.len()` on the column or index that contains the names of the movies."
   ]
  },
  {
   "cell_type": "code",
   "execution_count": null,
   "metadata": {},
   "outputs": [],
   "source": [
    "..."
   ]
  },
  {
   "cell_type": "markdown",
   "metadata": {
    "slideshow": {
     "slide_type": "slide"
    }
   },
   "source": [
    "### Question: What is the average rating of movies from years that had at least 3 movies in the Top 250?"
   ]
  },
  {
   "cell_type": "code",
   "execution_count": null,
   "metadata": {},
   "outputs": [],
   "source": [
    "..."
   ]
  },
  {
   "cell_type": "markdown",
   "metadata": {
    "slideshow": {
     "slide_type": "slide"
    }
   },
   "source": [
    "## Summary"
   ]
  },
  {
   "cell_type": "markdown",
   "metadata": {
    "slideshow": {
     "slide_type": "slide"
    }
   },
   "source": [
    "### Summary\n",
    "\n",
    "- We can write queries that involve multiple conditions, as long as we:\n",
    "    - Put parentheses around all conditions.\n",
    "    - Separate conditions using `&` if you require all to be true, or `|` if you require at least one to be true.\n",
    "- The method call `df.groupby(column_name).name_of_method()` **aggregates** all rows with the same value for `column_name` into a single row in the resulting table, according to the aggregation method `name_of_method`.\n",
    "    - Aggregation methods we've seen include `.count()`, `.sum()`, `.mean()`, `.median()`, `.max()`, and `.min()`.\n",
    "- **Next time:** A picture is worth a 1000 words – it's time to visualize!"
   ]
  }
 ],
 "metadata": {
  "celltoolbar": "Slideshow",
  "kernelspec": {
   "display_name": "Python 3 (ipykernel)",
   "language": "python",
   "name": "python3"
  },
  "language_info": {
   "codemirror_mode": {
    "name": "ipython",
    "version": 3
   },
   "file_extension": ".py",
   "mimetype": "text/x-python",
   "name": "python",
   "nbconvert_exporter": "python",
   "pygments_lexer": "ipython3",
   "version": "3.9.7"
  }
 },
 "nbformat": 4,
 "nbformat_minor": 2
}
