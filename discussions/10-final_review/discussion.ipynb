{
 "cells": [
  {
   "cell_type": "code",
   "execution_count": 1,
   "metadata": {},
   "outputs": [],
   "source": [
    "import babypandas as bpd\n",
    "import matplotlib.pyplot as plt\n",
    "import numpy as np\n",
    "plt.style.use('fivethirtyeight')\n",
    "\n",
    "import otter\n",
    "grader = otter.Notebook()"
   ]
  },
  {
   "cell_type": "markdown",
   "metadata": {
    "slideshow": {
     "slide_type": "slide"
    }
   },
   "source": [
    "# DSC 10 - Final Exam Review\n",
    "\n",
    "<img src=\"data/panda.jpg\" width=\"800\">"
   ]
  },
  {
   "cell_type": "markdown",
   "metadata": {
    "slideshow": {
     "slide_type": "slide"
    }
   },
   "source": [
    "## The Final Discussion\n",
    "- We'll review the main concepts from second part of the quarter.\n",
    "- How to prepare\n",
    "    - [Practice exams](https://dsc10.com/resources/#practice-exams)\n",
    "    - [Midterm Review Session](https://dsc10.com/) Covering first half of the content.\n",
    "    - This Final Review Session focusing on the second half - more conceptual.\n",
    "    - Course Notes\n",
    "    - Old homeworks, labs, discussions, review lectures\n",
    "- Today's topics (this list is not exhuastive)\n",
    "    - Distribution\n",
    "    - Sampling\n",
    "    - Estimation\n",
    "    - Hypothesis Testing\n",
    "    - Permutation Testing\n",
    "    - Bootstrapping\n",
    "    - Confidence Intervals\n",
    "    - Central Limit Theorem \n",
    "    - Regression"
   ]
  },
  {
   "cell_type": "markdown",
   "metadata": {},
   "source": [
    "## Course/IA Evaluation Form\n",
    "- we value your feedback: [Link](https://academicaffairs.ucsd.edu/Modules/Evals/Default.aspx)"
   ]
  },
  {
   "cell_type": "markdown",
   "metadata": {
    "slideshow": {
     "slide_type": "slide"
    }
   },
   "source": [
    "## Concept 1: Distributions\n",
    "\n",
    "- A *ditribution* tells us the probability of each possible outcome.\n",
    "- Often visualized with a *histogram*."
   ]
  },
  {
   "cell_type": "markdown",
   "metadata": {
    "slideshow": {
     "slide_type": "slide"
    }
   },
   "source": [
    "### Example"
   ]
  },
  {
   "cell_type": "code",
   "execution_count": 2,
   "metadata": {},
   "outputs": [],
   "source": [
    "flights = bpd.read_csv('data/united_summer2015.csv')\n",
    "flights.plot(kind='hist', y='Delay', bins=20)\n",
    "plt.show()"
   ]
  },
  {
   "cell_type": "markdown",
   "metadata": {
    "slideshow": {
     "slide_type": "slide"
    }
   },
   "source": [
    "## Concept 2: Sampling"
   ]
  },
  {
   "cell_type": "markdown",
   "metadata": {
    "slideshow": {
     "slide_type": "slide"
    }
   },
   "source": [
    "### Populations and Samples"
   ]
  },
  {
   "cell_type": "markdown",
   "metadata": {},
   "source": [
    "- The *population* is the \"entire\" data set. We don't usually see it.\n",
    "- Instead, we see a *sample* whose size is smaller than the population.\n",
    "- We usually obtain the sample *randomly*."
   ]
  },
  {
   "cell_type": "code",
   "execution_count": 3,
   "metadata": {},
   "outputs": [],
   "source": [
    "population = flights"
   ]
  },
  {
   "cell_type": "markdown",
   "metadata": {
    "slideshow": {
     "slide_type": "slide"
    }
   },
   "source": [
    "### With/Without Replacement\n",
    "\n",
    "- We have the option to randomly sample with/without replacement."
   ]
  },
  {
   "cell_type": "code",
   "execution_count": 4,
   "metadata": {},
   "outputs": [],
   "source": [
    "population.sample(2000, replace=True)"
   ]
  },
  {
   "cell_type": "markdown",
   "metadata": {
    "slideshow": {
     "slide_type": "slide"
    }
   },
   "source": [
    "### Examples\n",
    "\n",
    "In each of the following experiments:\n",
    "    - Picking a team of 5 from a class of 100 people.\n",
    "    - Rolling a 6-sided die, 20 times.\n",
    "    - Randomly generating names for 100 babies born.\n",
    "\n",
    "1. what is the population?\n",
    "2. should we sample with or without replacement?\n"
   ]
  },
  {
   "cell_type": "markdown",
   "metadata": {
    "slideshow": {
     "slide_type": "slide"
    }
   },
   "source": [
    "## Concept 3: Estimation"
   ]
  },
  {
   "cell_type": "markdown",
   "metadata": {
    "slideshow": {
     "slide_type": "slide"
    }
   },
   "source": [
    "- We want to know some aspect (parameter) of the *population*.\n",
    "    - Example: the average flight delay, or total number of planes produced\n",
    "- We don't have the population, only a sample.\n",
    "- So we try to *estimate* the parameter using the sample."
   ]
  },
  {
   "cell_type": "markdown",
   "metadata": {
    "slideshow": {
     "slide_type": "slide"
    }
   },
   "source": [
    "### Statistics\n",
    "\n",
    "- A statistic is any number computed from a sample.\n",
    "- We compute a *statistic* to *estimate* a population *parameter*.\n",
    "- Example: sample mean flight delay."
   ]
  },
  {
   "cell_type": "markdown",
   "metadata": {
    "slideshow": {
     "slide_type": "slide"
    }
   },
   "source": [
    "### The Problem Statement\n",
    "\n",
    "- You randomly select a sample and compute your statistic.\n",
    "    - Example: the sample mean flight delay is 14 minutes.\n",
    "- Your hope: it is close to the \"right answer\" (the pop. mean).\n",
    "- You can never know *exactly* how close it is without having the population.\n",
    "- The power of statistics: you can say how *confident* you are that the population paramter lies within a certain distance."
   ]
  },
  {
   "cell_type": "markdown",
   "metadata": {
    "slideshow": {
     "slide_type": "slide"
    }
   },
   "source": [
    "### Sampling Distribution - Distribution of Possible Sample Statistics\n",
    "\n",
    "- The sample is random; so your sample statistic is, too.\n",
    "    - I.e., it could have been different.\n",
    "- The *sampling distribution* tells us the probability of those different outcomes.\n",
    "    - I.e., it tells us how different sample mean *could have been*.\n",
    "- Sometimes, we just have one sample. How do we approximate the sampling distribution with just one sample?\n",
    "    - Answers: the Bootstrap and the Central Limit Theorem"
   ]
  },
  {
   "cell_type": "code",
   "execution_count": 5,
   "metadata": {},
   "outputs": [],
   "source": [
    "observed_mean =14\n",
    "observed_mean"
   ]
  },
  {
   "cell_type": "markdown",
   "metadata": {
    "slideshow": {
     "slide_type": "slide"
    }
   },
   "source": [
    "### Simulating the Sampling Distribution\n",
    "\n",
    "- Let's get more samples from the population, compute mean of each.\n",
    "- **Problem**: In the real world we (usually) can't do this."
   ]
  },
  {
   "cell_type": "code",
   "execution_count": 6,
   "metadata": {},
   "outputs": [],
   "source": [
    "sample_means = np.array([])\n",
    "for i in np.arange(1000):\n",
    "    one_sample_mean = ...\n",
    "    sample_means = np.append(sample_means, one_sample_mean)"
   ]
  },
  {
   "cell_type": "code",
   "execution_count": 7,
   "metadata": {},
   "outputs": [],
   "source": [
    "plt.rcParams[\"figure.figsize\"] = (10,6)\n",
    "plt.hist(sample_means, label='Sampling Distribution')\n",
    "plt.scatter(observed_mean, 0, color='red', zorder=10, label='Single Sample Mean')\n",
    "plt.legend()"
   ]
  },
  {
   "cell_type": "markdown",
   "metadata": {
    "slideshow": {
     "slide_type": "slide"
    }
   },
   "source": [
    "## Concept 4: Hypothesis Testing"
   ]
  },
  {
   "cell_type": "markdown",
   "metadata": {
    "slideshow": {
     "slide_type": "slide"
    }
   },
   "source": [
    "### Assessing Models\n",
    "\n",
    "- We have a set of assumptions\n",
    "    - Example: jury panels are selected at random from eligible population\n",
    "- Is the model plausible or unlikely?\n",
    "- We can use probability and simulation to assess its likelihood.\n",
    "- Two views"
   ]
  },
  {
   "cell_type": "markdown",
   "metadata": {
    "slideshow": {
     "slide_type": "slide"
    }
   },
   "source": [
    "### Sampling Distribution\n",
    "\n",
    "- We'd love to know the sampling distribution.\n",
    "- But we just have one sample.\n",
    "- How do we approximate the sampling distribution with just one sample?\n",
    "- Answers: the Bootstrap and the Central Limit Theorem"
   ]
  },
  {
   "cell_type": "markdown",
   "metadata": {
    "slideshow": {
     "slide_type": "slide"
    }
   },
   "source": [
    "### Null and Alternative Hypotheses\n",
    "\n",
    "- The **null** hypothesis states that a population parameter (such as the mean, the standard deviation, and so on) is equal to a hypothesized value. The null hypothesis is often an initial claim that is based on previous analyses or specialized knowledge.\n",
    "- The **alternative** hypothesis states that a population parameter is smaller, greater, or different than the hypothesized value in the null hypothesis. The alternative hypothesis is what you might believe to be true or hope to prove true. \n",
    "- The null hypothesis is (usually) precise and specific enough that it allows us to simulate."
   ]
  },
  {
   "cell_type": "markdown",
   "metadata": {
    "slideshow": {
     "slide_type": "slide"
    }
   },
   "source": [
    "### Example\n",
    "\n",
    "I think a coin is unfair. To test it, I make the following hypotheses:\n",
    "\n",
    "- Null: the coin is fair \n",
    "    - (P(heads) = .5)\n",
    "- Alternative: the coin is not fair \n",
    "    - (P(heads $\\neq$ .5)"
   ]
  },
  {
   "cell_type": "markdown",
   "metadata": {
    "slideshow": {
     "slide_type": "slide"
    }
   },
   "source": [
    "### Example\n",
    "\n",
    "I think a coin is *biased towards heads*. I make the following hypotheses:\n",
    "    \n",
    "- Null: the coin is fair\n",
    "    - (P(heads) = .5)\n",
    "- Alternative: the coin is unfair and biased towards heads\n",
    "    - (P(heads) > .5)"
   ]
  },
  {
   "cell_type": "markdown",
   "metadata": {
    "slideshow": {
     "slide_type": "slide"
    }
   },
   "source": [
    "### The Problem Statement\n",
    "\n",
    "- Flip the coin a bunch of times, count *observed* numbers of heads.\n",
    "- Is what we observed consistent with the null model, or very unlikely?\n",
    "- We need probability of seeing what we observed under the null hypothesis."
   ]
  },
  {
   "cell_type": "markdown",
   "metadata": {
    "slideshow": {
     "slide_type": "slide"
    }
   },
   "source": [
    "### Test Statistics\n",
    "\n",
    "- We must have a way of measuring how far we are from what is expected under the null.\n",
    "- We need to choose a *test statistic*.\n",
    "- The larger (in magnitude) the test statistic, the more extreme.\n",
    "- Choice depends on the *alternative* hypothesis."
   ]
  },
  {
   "cell_type": "markdown",
   "metadata": {
    "slideshow": {
     "slide_type": "slide"
    }
   },
   "source": [
    "### Possible Test Statistics\n",
    "\n",
    "- Alternative: the coin is not fair\n",
    "- Possible test statistics:\n",
    "    - the absolute difference between proportion of heads and 50%\n",
    "    - the absolute difference between number of heads and 50\n",
    "    - the TVD between sample distribution of heads/tails and the uniform distribution\n",
    "    - ..."
   ]
  },
  {
   "cell_type": "markdown",
   "metadata": {},
   "source": [
    "### Example\n",
    "\n",
    "- Alternative: the coin is not fair, and *biased towards heads*.\n",
    "- The statistic should be larger the more extreme the outcome.\n",
    "- Possible test statistics:\n",
    "    - the number of heads\n",
    "    - the signed difference between the number of heads and 50\n",
    "    - the signed difference between the proportion of heads and 50%"
   ]
  },
  {
   "cell_type": "markdown",
   "metadata": {},
   "source": [
    "### Experiment Set-up\n",
    "\n",
    "- You flip a coin 100 times and see 57 heads.\n",
    "- Test alternative hypothesis: coin is biased towards heads.\n",
    "- I.e., what is the probability of seeing 57 heads if coin is indeed fair?\n",
    "- This is the *p-value* - The probability of seeing such or extreme observation if the null hypothesis is true."
   ]
  },
  {
   "cell_type": "code",
   "execution_count": 8,
   "metadata": {
    "slideshow": {
     "slide_type": "slide"
    }
   },
   "outputs": [],
   "source": [
    "counts = np.array([])\n",
    "for i in np.arange(1000):\n",
    "    # Flip fair coin 100 times\n",
    "    flips = ...\n",
    "    count = ...\n",
    "    counts = np.append(counts, count)"
   ]
  },
  {
   "cell_type": "code",
   "execution_count": 9,
   "metadata": {},
   "outputs": [],
   "source": [
    "counts"
   ]
  },
  {
   "cell_type": "code",
   "execution_count": 10,
   "metadata": {},
   "outputs": [],
   "source": [
    "# Calculate the p-value"
   ]
  },
  {
   "cell_type": "code",
   "execution_count": 11,
   "metadata": {},
   "outputs": [],
   "source": [
    "# Visualize the distribution and the observed statistic\n",
    "plt.hist(counts, label='Null Distribution')\n",
    "plt.scatter(57, 0, color='red', zorder=10, label='Observed Sample Statistic')\n",
    "plt.legend()"
   ]
  },
  {
   "cell_type": "markdown",
   "metadata": {
    "slideshow": {
     "slide_type": "slide"
    }
   },
   "source": [
    "### Rejecting and Failing to Reject"
   ]
  },
  {
   "cell_type": "markdown",
   "metadata": {},
   "source": [
    "- The p-value tells us the probability of seeing the observed outcome or extreme if the null is true.\n",
    "- If we had set a \"confidence threshold\" before the experiment, we can reject at that confidence level.\n",
    "- E.g., if we had set a 5% threshold (95% confidence) we would fail to reject.\n"
   ]
  },
  {
   "cell_type": "markdown",
   "metadata": {
    "slideshow": {
     "slide_type": "slide"
    }
   },
   "source": [
    "### Accepting a null hypothesis?\n",
    "\n",
    "- We never \"accept\" a null hypothesis, we only \"fail to reject\". Why?\n",
    "- If we see 50 heads and 50 tails, this isn't evidence that the coin is fair; only that it is close to fair.\n",
    "- It would be wrong to say that we are \"95% sure that the coin is fair\"."
   ]
  },
  {
   "cell_type": "markdown",
   "metadata": {
    "slideshow": {
     "slide_type": "slide"
    }
   },
   "source": [
    "## Concept 5: A/B Testing"
   ]
  },
  {
   "cell_type": "markdown",
   "metadata": {
    "slideshow": {
     "slide_type": "slide"
    }
   },
   "source": [
    "### A/B Testing\n",
    "\n",
    "- A type of hypothesis test. We have two groups. Do they come from the same distribution?\n",
    "    - Example: baby weights for mothers who smoked / didn't smoke.\n",
    "- The null hypothesis: they come from the same distribution.\n",
    "    - We can't directly simulate using the null."
   ]
  },
  {
   "cell_type": "markdown",
   "metadata": {
    "slideshow": {
     "slide_type": "slide"
    }
   },
   "source": [
    "### Permutation Tests\n",
    "\n",
    "- Given a table, one column with group labels, another with quantity of interest.\n",
    "- Permuting group labels is like sampling more data.\n",
    "- Repeatedly:\n",
    "    - Shuffle the group labels.\n",
    "    - Compute a test statistic measuring difference between groups.\n",
    "- Plot the distribution of differences, use to calculate p-value."
   ]
  },
  {
   "cell_type": "markdown",
   "metadata": {
    "slideshow": {
     "slide_type": "slide"
    }
   },
   "source": [
    "## Concept 6: The Bootstrapping"
   ]
  },
  {
   "cell_type": "markdown",
   "metadata": {
    "slideshow": {
     "slide_type": "slide"
    }
   },
   "source": [
    "### The Boostrap\n",
    "\n",
    "- Problem: we want to know the sample distribution of our statistic, but we just have one sample."
   ]
  },
  {
   "cell_type": "code",
   "execution_count": 12,
   "metadata": {},
   "outputs": [],
   "source": [
    "original_sample = population.sample(2000)\n",
    "# plt.hist(sample_means, alpha=.3, color='black')\n",
    "# plt.scatter(original_sample.get('Delay').mean(), 0, color='red', zorder=10)"
   ]
  },
  {
   "cell_type": "markdown",
   "metadata": {
    "slideshow": {
     "slide_type": "slide"
    }
   },
   "source": [
    "### Idea beind bootstrapping\n",
    "\n",
    "- I wish I had the population; then I could get more samples:\n",
    "- I don't have the population.\n",
    "- But, the original sample probably looks like the population. Let's sample from it."
   ]
  },
  {
   "cell_type": "code",
   "execution_count": 13,
   "metadata": {},
   "outputs": [],
   "source": [
    "bootstrap_sample = original_sample.sample(2000, replace=True)\n",
    "bootstrap_sample"
   ]
  },
  {
   "cell_type": "markdown",
   "metadata": {
    "slideshow": {
     "slide_type": "slide"
    }
   },
   "source": [
    "### Boostrapping and Replacement\n",
    "\n",
    "- **Important**: when we get a boostrap sample, we sample *with* replacement. Why?\n",
    "- If we didn't we'd just get the same data set back:"
   ]
  },
  {
   "cell_type": "code",
   "execution_count": 14,
   "metadata": {},
   "outputs": [],
   "source": [
    "original_sample.sample(2000, replace=True).get('Delay').mean()"
   ]
  },
  {
   "cell_type": "markdown",
   "metadata": {
    "slideshow": {
     "slide_type": "slide"
    }
   },
   "source": [
    "### Bootstrapping and Duplicates\n",
    "\n",
    "- If we sample with replacement, we'll get duplicates.\n",
    "- This is OK! In fact, it is necessary - otherwise we would get the same sample mean every single time"
   ]
  },
  {
   "cell_type": "code",
   "execution_count": 15,
   "metadata": {},
   "outputs": [],
   "source": [
    "population.plot(kind='hist', y='Delay')"
   ]
  },
  {
   "cell_type": "code",
   "execution_count": 16,
   "metadata": {
    "scrolled": true
   },
   "outputs": [],
   "source": [
    "for i in range(5):\n",
    "    original_sample.sample(2000, replace=True).plot(kind='hist', y='Delay')"
   ]
  },
  {
   "cell_type": "markdown",
   "metadata": {
    "slideshow": {
     "slide_type": "slide"
    }
   },
   "source": [
    "## Example"
   ]
  },
  {
   "cell_type": "code",
   "execution_count": 17,
   "metadata": {},
   "outputs": [],
   "source": [
    "bootstrap_sample_means = np.array([])\n",
    "for i in np.arange(5000):\n",
    "    bootstrap_sample_size = ...\n",
    "    bootstrap_sample_mean = ...\n",
    "    bootstrap_sample_means = np.append(bootstrap_sample_means, bootstrap_sample_mean)"
   ]
  },
  {
   "cell_type": "code",
   "execution_count": 18,
   "metadata": {},
   "outputs": [],
   "source": [
    "plt.hist(bootstrap_sample_means, density=True, label='Bootstrapped Sampling Distribution')\n",
    "plt.hist(sample_means, density=True, alpha=.7, label='True Sampling Distribution')\n",
    "plt.rcParams[\"figure.figsize\"] = (10,6)\n",
    "plt.legend()\n",
    "plt.show()"
   ]
  },
  {
   "cell_type": "markdown",
   "metadata": {},
   "source": [
    "Remember: `sample_means` contains means from sampling from the population, rather than bootstrapping"
   ]
  },
  {
   "cell_type": "markdown",
   "metadata": {
    "slideshow": {
     "slide_type": "slide"
    }
   },
   "source": [
    "## Concept 7: Confidence Intervals"
   ]
  },
  {
   "cell_type": "markdown",
   "metadata": {
    "slideshow": {
     "slide_type": "slide"
    }
   },
   "source": [
    "### Confidence Intervals\n",
    "\n",
    "- How different could our estimate have been?\n",
    "    - Instead of giving a single estimate, give an interval and a \"confidence level\".\n",
    "    - E.g., \"I'm 95% sure that the population mean flight delay is between 14 and 17\".\n",
    "- More formally it means that, if we repeated the sampling method many times, ~95% of intervals would capture the true population mean. \n",
    "    - The confidence is in the method, not the particular CI\n",
    "    - It does not mean that 95% of flight delay data is between 14 and 17."
   ]
  },
  {
   "cell_type": "markdown",
   "metadata": {
    "slideshow": {
     "slide_type": "slide"
    }
   },
   "source": [
    "### CIs and the Sampling Distribution"
   ]
  },
  {
   "cell_type": "markdown",
   "metadata": {},
   "source": [
    "- If we have a sampling distribution, we can construct a CI (no matter how we got the sampling distribution)."
   ]
  },
  {
   "cell_type": "code",
   "execution_count": 19,
   "metadata": {},
   "outputs": [],
   "source": [
    "import scipy.stats"
   ]
  },
  {
   "cell_type": "code",
   "execution_count": 20,
   "metadata": {},
   "outputs": [],
   "source": [
    "# true sample means\n",
    "plt.hist(sample_means, density=True, label='True Sampling Distribution')\n",
    "\n",
    "# central limit theorem\n",
    "clt_mu = ...\n",
    "clt_sigma = ...\n",
    "\n",
    "x = np.linspace(clt_mu - 3*clt_sigma, clt_mu + 3*clt_sigma, 100)\n",
    "plt.plot(x, scipy.stats.norm.pdf(x, clt_mu, clt_sigma), label='CLT Sampling Distribution')\n",
    "\n",
    "# bootstrapped sample means\n",
    "plt.hist(bootstrap_sample_means, density=True, alpha=0.85, label='Bootstrapped Sampling Distribution')\n",
    "\n",
    "plt.legend()\n",
    "plt.show()"
   ]
  },
  {
   "cell_type": "markdown",
   "metadata": {
    "slideshow": {
     "slide_type": "slide"
    }
   },
   "source": [
    "### Constructing CIs"
   ]
  },
  {
   "cell_type": "markdown",
   "metadata": {},
   "source": [
    "- An $x$% CI contains the middle $x$% of the sampling distribution.\n",
    "- Two ways:\n",
    "    1. If we have a bunch of sample statistics (like from the boostrap), we can use `np.percentile`.\n",
    "    2. If we're using the CLT, we can use the rule of thumb: 95% of normal curve is within 2 SDs of mean."
   ]
  },
  {
   "cell_type": "markdown",
   "metadata": {
    "slideshow": {
     "slide_type": "slide"
    }
   },
   "source": [
    "### Example: Directly from the Sampling Distribution"
   ]
  },
  {
   "cell_type": "code",
   "execution_count": 21,
   "metadata": {},
   "outputs": [],
   "source": [
    "[left_sms, right_sms] = np.percentile(sample_means, 2.5), np.percentile(sample_means, 97.5)\n",
    "[left_sms, right_sms]"
   ]
  },
  {
   "cell_type": "code",
   "execution_count": 22,
   "metadata": {},
   "outputs": [],
   "source": [
    "plt.hist(sample_means, label='True Sampling Distribution')\n",
    "plt.plot([left_sms, right_sms], [0,0], color='lime', linewidth=10, zorder=10, label='CI')\n",
    "plt.legend()"
   ]
  },
  {
   "cell_type": "markdown",
   "metadata": {
    "slideshow": {
     "slide_type": "slide"
    }
   },
   "source": [
    "### Example: From the Boostrap Sampling Distribution"
   ]
  },
  {
   "cell_type": "code",
   "execution_count": 23,
   "metadata": {},
   "outputs": [],
   "source": [
    "[left_boot, right_boot] = np.percentile(bootstrap_sample_means, 2.5), np.percentile(bootstrap_sample_means, 97.5)\n",
    "[left_boot, right_boot]"
   ]
  },
  {
   "cell_type": "code",
   "execution_count": 24,
   "metadata": {},
   "outputs": [],
   "source": [
    "plt.hist(bootstrap_sample_means, color='C2', label='Bootstrapped Sampling Distribution')\n",
    "plt.plot([left_boot, right_boot], [0,0], color='lime', linewidth=10, zorder=10, label='CI')\n",
    "plt.legend()"
   ]
  },
  {
   "cell_type": "markdown",
   "metadata": {
    "slideshow": {
     "slide_type": "slide"
    }
   },
   "source": [
    "### Example: From the CLT"
   ]
  },
  {
   "cell_type": "code",
   "execution_count": 25,
   "metadata": {},
   "outputs": [],
   "source": [
    "import scipy.stats"
   ]
  },
  {
   "cell_type": "code",
   "execution_count": 26,
   "metadata": {},
   "outputs": [],
   "source": [
    "[left_clt, right_clt]= [\n",
    "    original_sample.get('Delay').mean() - 2 * np.std(original_sample.get('Delay')) / np.sqrt(2000),\n",
    "    original_sample.get('Delay').mean() + 2 * np.std(original_sample.get('Delay')) / np.sqrt(2000),\n",
    "]\n",
    "[left_clt, right_clt]"
   ]
  },
  {
   "cell_type": "code",
   "execution_count": 27,
   "metadata": {},
   "outputs": [],
   "source": [
    "x = np.linspace(clt_mu - 3*clt_sigma, clt_mu + 3*clt_sigma, 100)\n",
    "plt.plot(x, scipy.stats.norm.pdf(x, clt_mu, clt_sigma), color = 'Red', label='CLT Sampling Distribution')\n",
    "plt.plot([left_clt, right_clt], [0,0], color='lime', linewidth=10, zorder=10, label='CI')\n",
    "plt.legend()"
   ]
  },
  {
   "cell_type": "markdown",
   "metadata": {
    "slideshow": {
     "slide_type": "slide"
    }
   },
   "source": [
    "### Comparison"
   ]
  },
  {
   "cell_type": "code",
   "execution_count": 28,
   "metadata": {},
   "outputs": [],
   "source": [
    "plt.plot([left_clt, right_clt], [.2, .2], color='C1', linewidth=10, zorder=10, label='CI - CLT')\n",
    "plt.plot([left_boot, right_boot], [.1,.1], color='C2', linewidth=10, zorder=10, label='CI - Bootstrapping')\n",
    "plt.plot([left_sms, right_sms], [0,0], color='C0', linewidth=10, zorder=10, label='CI - True Sampling Distribution')\n",
    "plt.scatter(population.get('Delay').mean(), -.1, color='black', s=200, label='True Population Mean')\n",
    "plt.legend()"
   ]
  },
  {
   "cell_type": "markdown",
   "metadata": {
    "slideshow": {
     "slide_type": "slide"
    }
   },
   "source": [
    "### Accuracy\n",
    "\n",
    "- The Boostrap and CLT are *approximations*.\n",
    "- As the sample size increases, their estimates improve."
   ]
  },
  {
   "cell_type": "markdown",
   "metadata": {
    "slideshow": {
     "slide_type": "slide"
    }
   },
   "source": [
    "## Concept 8: The Central Limit Theorem"
   ]
  },
  {
   "cell_type": "markdown",
   "metadata": {
    "slideshow": {
     "slide_type": "slide"
    }
   },
   "source": [
    "### The CLT\n",
    "\n",
    "- Problem: we want to know the sample distribution of our statistic, we need resampling and calculate the stat."
   ]
  },
  {
   "cell_type": "code",
   "execution_count": 29,
   "metadata": {},
   "outputs": [],
   "source": [
    "original_sample = population.sample(2000)\n",
    "\n",
    "plt.hist(sample_means, alpha=.3, color='black', label='True Sampling Distribution')\n",
    "\n",
    "plt.scatter(original_sample.get('Delay').mean(), 0, color='red', zorder=10, label='Original Sample Mean')\n",
    "plt.legend()"
   ]
  },
  {
   "cell_type": "markdown",
   "metadata": {
    "slideshow": {
     "slide_type": "slide"
    }
   },
   "source": [
    "### Idea\n",
    "\n",
    "- The distribution of the *sample mean* will be (approximately) normal if the sample size is large enough.\n",
    "- This is the **Central Limit Theorem**:\n",
    "\n",
    "> The sampling distribution of the sample mean is approximately a normal curve, centered at the population mean ($\\mu$), and with standard deviation equal to the population standard deviation over the square root of the sample size ($\\frac{\\sigma}{\\sqrt{n}}$)."
   ]
  },
  {
   "cell_type": "markdown",
   "metadata": {
    "slideshow": {
     "slide_type": "slide"
    }
   },
   "source": [
    "### CLT\n",
    "\n",
    "- The CLT let's us approximate the sampling distribution of the mean without getting more samples or running the bootstrap.\n",
    "- Small problem: we don't have the population mean/SD. That's OK, just use the sample mean and SD."
   ]
  },
  {
   "cell_type": "code",
   "execution_count": 30,
   "metadata": {},
   "outputs": [],
   "source": [
    "mu = original_sample.get('Delay').mean()\n",
    "sigma = np.std(original_sample.get('Delay')) / (original_sample.shape[0])**(1/2)"
   ]
  },
  {
   "cell_type": "markdown",
   "metadata": {
    "slideshow": {
     "slide_type": "slide"
    }
   },
   "source": [
    "### Careful!\n",
    "\n",
    "- There are lots of distributions here:\n",
    "    - The population distribution\n",
    "    - The sample distribution\n",
    "    - And the distribution of the sample mean, each with their own mean / SD."
   ]
  },
  {
   "cell_type": "code",
   "execution_count": 31,
   "metadata": {},
   "outputs": [],
   "source": [
    "population.plot(kind='hist', y='Delay')"
   ]
  },
  {
   "cell_type": "code",
   "execution_count": 32,
   "metadata": {},
   "outputs": [],
   "source": [
    "original_sample.plot(kind='hist', y='Delay')"
   ]
  },
  {
   "cell_type": "code",
   "execution_count": 33,
   "metadata": {},
   "outputs": [],
   "source": [
    "plt.hist(sample_means, label='Sampling Distribution (Distribution of all possible Sample Means)')\n",
    "plt.legend()"
   ]
  },
  {
   "cell_type": "markdown",
   "metadata": {
    "slideshow": {
     "slide_type": "slide"
    }
   },
   "source": [
    "### CLT vs Boostrapping\n",
    "\n",
    "- The CLT and Boostrapping are two ways of approximating a sampling distribution.\n",
    "    - How different could our estimate have been?\n",
    "- However, the CLT is **only** useful when talking about the sample mean (or sample sum).\n",
    "- The boostrap is more generally useful. Example: the sample median."
   ]
  },
  {
   "cell_type": "markdown",
   "metadata": {
    "slideshow": {
     "slide_type": "slide"
    }
   },
   "source": [
    "### When to use the CLT vs the Boostrap\n",
    "\n",
    "- If we're talking about the sample mean, use the CLT.\n",
    "- *Could* use the boostrap, but it's less accurate/slower.\n",
    "- If we're talking about another statistic (e.g., median), use the bootstrap."
   ]
  },
  {
   "cell_type": "markdown",
   "metadata": {
    "slideshow": {
     "slide_type": "slide"
    }
   },
   "source": [
    "## Concept 9: Linear Regression"
   ]
  },
  {
   "cell_type": "markdown",
   "metadata": {},
   "source": [
    "### Lets make a scatter plot:\n",
    " - Below is some randomlly generated data, normally you would use real world data"
   ]
  },
  {
   "cell_type": "code",
   "execution_count": 34,
   "metadata": {},
   "outputs": [],
   "source": [
    "# lets create some random data\n",
    "randomData = bpd.DataFrame(data = {\n",
    "    \"Data_A\" : (np.random.randint(0,100,size=(200)))\n",
    "}, index=np.arange(200))\n",
    "\n",
    "# create a random set of data that is +/-20 from generated Data A  \n",
    "randomCol = randomData.get('Data_A')\n",
    "newCol = np.array([])\n",
    "\n",
    "for i in range(randomCol.shape[0]):\n",
    "    newCol = np.append(newCol, int(randomCol.iloc[i] + np.random.randint(-40,40)))\n",
    "    #check within 0 and 100\n",
    "    if newCol[i] > 100:\n",
    "        newCol[i] = 100\n",
    "    if newCol[i] < 0:\n",
    "        newCol[i] = 0\n",
    "\n",
    "randomData=randomData.assign(Data_B = newCol)\n",
    "\n",
    "\n",
    "#plot the data\n",
    "randomData.plot(kind='scatter', x='Data_A', y='Data_B')"
   ]
  },
  {
   "cell_type": "markdown",
   "metadata": {},
   "source": [
    "### Converting columns to standard units\n",
    "* makes different scatterplots comparable\n",
    "* allows x and y axis to be \"similarly scaled\"\n",
    "    - both axes measure standard deviations from their means\n",
    "* doesn't change shape of the scatterplot (conversion is linear)"
   ]
  },
  {
   "cell_type": "code",
   "execution_count": 35,
   "metadata": {},
   "outputs": [],
   "source": [
    "# a simple function to help up standardize the units\n",
    "def standard_units(any_numbers):\n",
    "    \"Convert any array of numbers to standard units.\"\n",
    "    any_numbers = np.array(any_numbers)\n",
    "    return (any_numbers - np.mean(any_numbers))/np.std(any_numbers)"
   ]
  },
  {
   "cell_type": "code",
   "execution_count": 36,
   "metadata": {},
   "outputs": [],
   "source": [
    "# Lets standardize the original (randomlly generated) Data\n",
    "Data_A_su = ...\n",
    "Data_B_su = ...\n",
    "\n",
    "#make a new data frame\n",
    "randomData_su = bpd.DataFrame()\n",
    "randomData_su = ...\n",
    "randomData_su = ...\n",
    "\n",
    "randomData_su\n",
    "\n",
    "#plot the data\n",
    "randomData_su.plot(kind='scatter', x='Data_A_su', y='Data_B_su')"
   ]
  },
  {
   "cell_type": "markdown",
   "metadata": {},
   "source": [
    "### Definition: Correlation Coefficient\n",
    "\n",
    "**Definition**: The correlation coefficient $r$ of two attributes $x$ and $y$ is the average value of the product of $x$ and $y$ when measured in standard units.\n",
    "\n",
    "* If `x` and `y` are arrays (i.e. columns in a table): \n",
    "```\n",
    "r = np.mean(x_su * y_su)\n",
    "```\n",
    "where `x_su` and `y_su` are `x` and `y` converted to standard units.\n",
    "\n",
    "\n",
    "* Measures how clustered points are around a straight line (linear association)\n",
    "* Based on standard units\n",
    "* $-1 \\leq r \\leq 1$\n",
    "    - $r = 1$: scatterplot is a line of slope 1.\n",
    "    - $r = -1$: scatterplot is a line of slope -1.\n",
    "* $r = 0$: no linear association; *uncorrelated*."
   ]
  },
  {
   "cell_type": "code",
   "execution_count": 37,
   "metadata": {},
   "outputs": [],
   "source": [
    "r = ...\n",
    "r"
   ]
  },
  {
   "cell_type": "markdown",
   "metadata": {},
   "source": [
    "### Using the correlation coefficient for prediction\n",
    "In standard units:\n",
    "* The line through $(0,0)$ with slope $r$ is called the regression line.\n",
    "* If the association between attributes is linear, the graph of averages is approximately the regression line.\n",
    "* If the line is given by $f(x) = kx + b$, then the prediction for $x$ is given by $f(x)$."
   ]
  },
  {
   "cell_type": "markdown",
   "metadata": {},
   "source": [
    "### Regression line equation:\n",
    "\n",
    "* In standard units:\n",
    "$$ y_{su} = r \\times x_{su} $$\n",
    "* In original units, \n",
    "    - where $m_x$, $m_y$ are the averages of $x$ and $y$\n",
    "    - where $s_x$, $s_y$ are the standard deviations of $x$ and $y$,\n",
    "$$\\frac{(y - m_y)}{s_y} = r \\times \\frac{(x - m_x)}{s_x}$$\n",
    "* This equation reworked into the point-slope form of a line:\n",
    "$$(y - m_y) = \\left(\\frac{r\\cdot s_y}{s_x}\\right)(x - m_x)$$\n",
    "\n",
    "* Or in the slope-intercept form:\n",
    "\n",
    "$$y = \\left(\\frac{r\\cdot s_y}{s_x}\\right)x + \\left(m_y - \\frac{r\\cdot s_y\\cdot m_x}{s_x}\\right)$$"
   ]
  },
  {
   "cell_type": "markdown",
   "metadata": {},
   "source": [
    "### Slope and intercept\n",
    "\n",
    "* The regression line is given by $y = kx + b$, where:\n",
    "    - the slope $k$ is: $$k = r\\cdot\\frac{SD\\ of\\ x}{SD\\ of\\ y}$$ \n",
    "    - the y-intercept $b$ is: $$b = (avg\\ of\\ y) - k\\cdot(avg\\ of\\ x)$$\n"
   ]
  },
  {
   "cell_type": "code",
   "execution_count": 38,
   "metadata": {},
   "outputs": [],
   "source": [
    "#define the correlation, slop and intercept function\n",
    "def correlation(t, x, y):\n",
    "    return np.mean(standard_units(t.get(x))*standard_units(t.get(y)))\n",
    "\n",
    "def slope(t, x, y):\n",
    "    \"\"\"The slope of the regression line (original units)\"\"\"\n",
    "    r = correlation(t, x, y)\n",
    "    return r * np.std(t.get(y)) / np.std(t.get(x))\n",
    "\n",
    "def intercept(t, x, y):\n",
    "    \"\"\"The intercept of the regression line (original units)\"\"\"\n",
    "    return t.get(y).mean() - slope(t, x, y) * t.get(x).mean()\n"
   ]
  },
  {
   "cell_type": "code",
   "execution_count": 39,
   "metadata": {},
   "outputs": [],
   "source": [
    "#use our defined functions to find slope and intercept\n",
    "k = ...\n",
    "b = ...\n",
    "\n",
    "print('Slope: ' + str(k) + '  y-intercept: ' + str(b))\n",
    "\n",
    "#polt with our dataFrame:\n",
    "randomData.plot(kind='scatter', x='Data_A', y='Data_B')\n",
    "x = np.arange(0,100)\n",
    "plt.plot(x, k * x + b, color='C1');\n"
   ]
  },
  {
   "cell_type": "markdown",
   "metadata": {},
   "source": [
    "## Good luck on the final & thanks for a great quarter! "
   ]
  }
 ],
 "metadata": {
  "kernelspec": {
   "display_name": "Python 3",
   "language": "python",
   "name": "python3"
  },
  "language_info": {
   "codemirror_mode": {
    "name": "ipython",
    "version": 3
   },
   "file_extension": ".py",
   "mimetype": "text/x-python",
   "name": "python",
   "nbconvert_exporter": "python",
   "pygments_lexer": "ipython3",
   "version": "3.7.0"
  }
 },
 "nbformat": 4,
 "nbformat_minor": 4
}
