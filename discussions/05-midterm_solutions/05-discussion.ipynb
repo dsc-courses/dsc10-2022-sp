{
 "cells": [
  {
   "cell_type": "markdown",
   "metadata": {},
   "source": [
    "# Discussion 05: Midterm Solutions"
   ]
  },
  {
   "cell_type": "markdown",
   "metadata": {},
   "source": [
    "Welcome to discussion 5! Today we will be reviewing last Friday's midterm.\n",
    "\n",
    "Solutions: https://dsc10.com/resources/exams/sp22/midterm_solutions.pdf"
   ]
  },
  {
   "cell_type": "code",
   "execution_count": null,
   "metadata": {},
   "outputs": [],
   "source": [
    "import babypandas as bpd\n",
    "import numpy as np\n",
    "import matplotlib.pyplot as plt\n",
    "plt.style.use('fivethirtyeight')"
   ]
  },
  {
   "cell_type": "code",
   "execution_count": null,
   "metadata": {
    "scrolled": true
   },
   "outputs": [],
   "source": [
    "sungod = bpd.DataFrame().assign(Year=[1993, 2007, 2019, 2007, 2015, \n",
    "                                       2012, 1983, 2005, 1994, 1983,\n",
    "                                      2007, 2007], \n",
    "                               Artist=[\"Blues Traveler\", \"Third Eye Blind\", \"Vince Staples\", \"Ben Kweller\", \"OK Go\",\n",
    "                                       \"Third Eye Blind\", \"Sparks\", \"Ludacris\", \"No Doubt\", \"Ben\",\n",
    "                                       \"Ozomatli\", \"T.I.\"],\n",
    "                               Appearance_Order=[1, 4, 3, 1, 3, \n",
    "                                                 1, 2, 1, 2, 1,\n",
    "                                                 3, 2])\n",
    "sungod"
   ]
  },
  {
   "cell_type": "markdown",
   "metadata": {},
   "source": [
    "## Question 1 (4 points)\n",
    "\n",
    "Which of the following is a valid reason not to set the index of sungod to \"Artist\"? Select all correct answers.\n",
    "\n",
    "1. Two different artists have the same name.\n",
    "2. An artist performed at Sun God in more than one year.\n",
    "3. Several different artists performed at Sun God in the same year.\n",
    "4. Many different artists share the same value of \"Appearance Order\".\n",
    "5. None of the above.\n",
    "\n",
    "**Solution: 1, 2**"
   ]
  },
  {
   "cell_type": "code",
   "execution_count": null,
   "metadata": {},
   "outputs": [],
   "source": [
    "sungod1 = sungod.set_index(\"Artist\")\n",
    "sungod1"
   ]
  },
  {
   "cell_type": "code",
   "execution_count": null,
   "metadata": {},
   "outputs": [],
   "source": [
    "..."
   ]
  },
  {
   "cell_type": "code",
   "execution_count": null,
   "metadata": {},
   "outputs": [],
   "source": [
    "..."
   ]
  },
  {
   "cell_type": "markdown",
   "metadata": {},
   "source": [
    "## Question 2 (6 points)\n",
    "\n",
    "On the graph paper below, draw the histogram that would be produced by this code.\n",
    "\n",
    "```\n",
    "(\n",
    "sungod.take(np.arange(5))\n",
    "    .plot(kind=\"hist\", density=True,\n",
    "    bins=np.arange(0, 7, 2), y=\"Appearance_Order\");\n",
    ")\n",
    "```\n",
    "\n",
    "In your drawing, make sure to label the height of each bar in the histogram on the vertical\n",
    "axis. You can scale the axes however you like, and the two axes don’t need to be on the\n",
    "same scale."
   ]
  },
  {
   "cell_type": "code",
   "execution_count": null,
   "metadata": {},
   "outputs": [],
   "source": [
    "..."
   ]
  },
  {
   "cell_type": "code",
   "execution_count": null,
   "metadata": {},
   "outputs": [],
   "source": [
    "..."
   ]
  },
  {
   "cell_type": "code",
   "execution_count": null,
   "metadata": {},
   "outputs": [],
   "source": [
    "(\n",
    "sungod.take(np.arange(5))\n",
    "    .plot(kind='hist', density = True,\n",
    "          bins=np.arange(0, 7, 2), y='Appearance_Order',\n",
    "          edgecolor='black', legend = False)\n",
    ");"
   ]
  },
  {
   "cell_type": "markdown",
   "metadata": {},
   "source": [
    "## Question 3 (4 points)\n",
    "\n",
    "Suppose in a new cell, we type the following.\n",
    "\n",
    "```sungod.sort_values(by=\"Year\")```\n",
    "\n",
    "After we run that cell, we type the following in a second cell.\n",
    "\n",
    "```sungod.get(\"Artist\").iloc[0]```\n",
    "\n",
    "What is the output when we run the second cell? Note that the first Sun God festival was held in 1983.\n",
    "\n",
    "1. \"Blues Traveler\"\n",
    "2. The artist who appeared on stage first in 1983.\n",
    "3. An artist who appeared in 1983, but not necessarily the one who appeared first.\n",
    "4. Not enough information to tell.\n",
    "\n",
    "**Solution: 1**"
   ]
  },
  {
   "cell_type": "code",
   "execution_count": null,
   "metadata": {},
   "outputs": [],
   "source": [
    "sungod"
   ]
  },
  {
   "cell_type": "code",
   "execution_count": null,
   "metadata": {},
   "outputs": [],
   "source": [
    "sungod.sort_values(by=\"Year\")"
   ]
  },
  {
   "cell_type": "code",
   "execution_count": null,
   "metadata": {},
   "outputs": [],
   "source": [
    "sungod.get(\"Artist\").iloc[0]"
   ]
  },
  {
   "cell_type": "markdown",
   "metadata": {},
   "source": [
    "## Question 4 (4 points)\n",
    "\n",
    "Write one line of code below to create a DataFrame called openers containing the artists that appeared first on stage at a past Sun God festival. The DataFrame openers should have all the same columns as sungod. \n",
    "\n",
    "It’s okay if you need to write on two lines to fit into the provided space, as long as your answer would be one line of Python code.\n",
    "\n",
    "**Solution:** ```sungod[sungod.get(\"Appearance_Order\")==1]```"
   ]
  },
  {
   "cell_type": "code",
   "execution_count": null,
   "metadata": {},
   "outputs": [],
   "source": [
    "openers = ...\n",
    "openers"
   ]
  },
  {
   "cell_type": "markdown",
   "metadata": {},
   "source": [
    "## Question 5 (4 points)\n",
    "\n",
    "What was the largest number of artists that ever performed in a single Sun God festival?\n",
    "\n",
    "Select all expressions that evaluate to the correct answer.\n",
    "\n",
    "1. ```sungod.groupby(\"Appearance Order\").count().get(\"Year\").max()```\n",
    "2. ```sungod.groupby(\"Year\").count().get(\"Artist\").max()```\n",
    "3. ```sungod.get(\"Appearance Order\").max()```\n",
    "4. ```sungod.groupby(\"Year\").max().get(\"Year\").max()```\n",
    "5. None of the above.\n",
    "\n",
    "**Solution: 2, 3**"
   ]
  },
  {
   "cell_type": "code",
   "execution_count": null,
   "metadata": {},
   "outputs": [],
   "source": [
    "sungod"
   ]
  },
  {
   "cell_type": "code",
   "execution_count": null,
   "metadata": {},
   "outputs": [],
   "source": [
    "# 1\n",
    "(sungod.groupby(\"Appearance_Order\")\n",
    "     .count()\n",
    "     .get(\"Year\")\n",
    "     .max()\n",
    ")"
   ]
  },
  {
   "cell_type": "code",
   "execution_count": null,
   "metadata": {},
   "outputs": [],
   "source": [
    "# 2\n",
    "(sungod.groupby(\"Year\").count()\n",
    "     .get(\"Artist\")\n",
    "     .max()\n",
    ")"
   ]
  },
  {
   "cell_type": "code",
   "execution_count": null,
   "metadata": {},
   "outputs": [],
   "source": [
    "# 3\n",
    "(sungod.get(\"Appearance_Order\")\n",
    "     .max()\n",
    ")"
   ]
  },
  {
   "cell_type": "code",
   "execution_count": null,
   "metadata": {},
   "outputs": [],
   "source": [
    "# 4\n",
    "(sungod.groupby(\"Year\")\n",
    "     .max()\n",
    "     .get(\"Year\")\n",
    "     .max()\n",
    ")\n",
    "\n",
    "..."
   ]
  },
  {
   "cell_type": "markdown",
   "metadata": {},
   "source": [
    "## Question 6 (4 points)\n",
    "\n",
    "Fill in the blank in the code below so that chronological is a DataFrame with the same rows as sungod, but ordered chronologically by appearance on stage. That is, earlier years should come before later years, and within a single year, artists should appear in the DataFrame in the order they appeared on stage at Sun God. Note that groupby automatically sorts the index in ascending order.\n",
    "\n",
    "```chronological = sungod.groupby(___________).max().reset_index()```\n",
    "\n",
    "1. ```[\"Year\", \"Artist\", \"Appearance_Order\"]```\n",
    "2. ```[\"Year\", \"Appearance_Order\"]```\n",
    "3. ```[\"Appearance_Order\", \"Year\"]```\n",
    "4. None of the above.\n",
    "\n",
    "**Solution: 2**"
   ]
  },
  {
   "cell_type": "code",
   "execution_count": null,
   "metadata": {},
   "outputs": [],
   "source": [
    "# 1\n",
    "(sungod.groupby([\"Year\", \"Artist\", \"Appearance_Order\"])\n",
    "     .max()\n",
    "     .reset_index())\n",
    "\n",
    "..."
   ]
  },
  {
   "cell_type": "code",
   "execution_count": null,
   "metadata": {},
   "outputs": [],
   "source": [
    "# 2\n",
    "(sungod.groupby([\"Year\", \"Appearance_Order\"])\n",
    "     .max()\n",
    "     .reset_index())\n",
    "\n",
    "..."
   ]
  },
  {
   "cell_type": "code",
   "execution_count": null,
   "metadata": {},
   "outputs": [],
   "source": [
    "# 3\n",
    "(sungod.groupby([\"Appearance_Order\", \"Year\"])\n",
    "     .max()\n",
    "     .reset_index())"
   ]
  },
  {
   "cell_type": "code",
   "execution_count": null,
   "metadata": {},
   "outputs": [],
   "source": [
    "music = bpd.DataFrame().assign(Name=[\"Blues Traveler\", \"Matt and Kim\", \"Ben Kweller\", \"OK Go\",\n",
    "                                    \"Vince Staples\", \"Sparks\"],\n",
    "                               Genre=[\"Pop\", \"Rock\", \"Indie\", \"Pop\", \"Rap\", \"Rock\"],\n",
    "                               Top_Hit = [\"Song 1\", \"Song 2\", \"Song 3\", \"Song 4\", \"Song 5\", \"Song 6\"],\n",
    "                               Top_Hit_Year=[1995, 2008, 2000, 2025, 2017, 1981])\n",
    "music"
   ]
  },
  {
   "cell_type": "markdown",
   "metadata": {},
   "source": [
    "## Question 7 (4 points)\n",
    "\n",
    "Another DataFrame called music contains a row for every music artist that has ever released a song. The columns are:\n",
    "* \"Name\" (str): the name of the music artist\n",
    "* \"Genre\" (str): the primary genre of the artist\n",
    "* \"Top Hit\" (str): the most popular song by that artist, based on sales, radio play, and streaming\n",
    "* \"Top Hit Year\" (str): the year in which the top hit song was released\n",
    "\n",
    "You want to know how many musical genres have been represented at Sun God since its inception in 1983. Which of the following expressions produces a DataFrame called ```merged``` that could help determine the answer?\n",
    "\n",
    "1. ```merged = sungod.merge(music, left_on=\"Year\", right_on=\"Top_Hit_ Year\")```\n",
    "2. ```merged = music.merge(sungod, left_on=\"Year\", right_on=\"Top_Hit_Year\")```\n",
    "3. ```merged = sungod.merge(music, left_on=\"Artist\", right_on=\"Name\")```\n",
    "4. ```merged = music.merge(sungod, left_on=\"Artist\", right_on=\"Name\")```\n",
    "\n",
    "**Solution: 3**"
   ]
  },
  {
   "cell_type": "code",
   "execution_count": null,
   "metadata": {},
   "outputs": [],
   "source": [
    "# 1\n",
    "sungod.merge(music, left_on=\"Year\", right_on=\"Top_Hit_Year\")"
   ]
  },
  {
   "cell_type": "code",
   "execution_count": null,
   "metadata": {},
   "outputs": [],
   "source": [
    "# 2\n",
    "music.merge(sungod, left_on=\"Year\", right_on=\"Top_Hit_Year\")"
   ]
  },
  {
   "cell_type": "code",
   "execution_count": null,
   "metadata": {},
   "outputs": [],
   "source": [
    "# 3\n",
    "sungod.merge(music, left_on=\"Artist\", right_on=\"Name\")"
   ]
  },
  {
   "cell_type": "code",
   "execution_count": null,
   "metadata": {},
   "outputs": [],
   "source": [
    "# 4\n",
    "music.merge(sungod, left_on=\"Artist\", right_on=\"Name\")"
   ]
  },
  {
   "cell_type": "code",
   "execution_count": null,
   "metadata": {},
   "outputs": [],
   "source": [
    "merged = sungod.merge(music, left_on=\"Artist\", right_on=\"Name\")\n",
    "merged"
   ]
  },
  {
   "cell_type": "markdown",
   "metadata": {},
   "source": [
    "## Question 8 (6 points)\n",
    "Consider an artist that has only appeared once at Sun God. At the time of their Sun God performance, we'll call the artist \n",
    "- outdated if their top hit came out more than five years prior,\n",
    "- trending if their top hit came out within the five years prior,\n",
    "- up-and-coming if their top hit came out after they appeared at Sun God.\n",
    "\n",
    "Complete the function below so it outputs the appropriate description on any input artist who has appeared exactly once at Sun God.\n",
    "\n",
    "```def classify_artist(artist):\n",
    "    filtered = merged[merged.get('Artist')==artist]\n",
    "    year = filtered.get('Year').iloc[0]\n",
    "    top_hit_year = filtered.get('Top_Hit_Year').iloc[0]\n",
    "    if ____(a)____ > 0:\n",
    "        return \"up-and-coming\"\n",
    "    elif ____(b)_____ :\n",
    "        return \"outdated\"\n",
    "    else:\n",
    "        return \"trending\"```\n",
    "        \n",
    "**Solution:**\n",
    "\n",
    "a) ```top_hit_year - year```\n",
    "\n",
    "b) ```year - top_hit_year > 5``` or ```top_hit_year - year < -5```"
   ]
  },
  {
   "cell_type": "code",
   "execution_count": null,
   "metadata": {},
   "outputs": [],
   "source": [
    "filtered = merged[merged.get('Artist')==\"OK Go\"]\n",
    "filtered"
   ]
  },
  {
   "cell_type": "code",
   "execution_count": null,
   "metadata": {},
   "outputs": [],
   "source": [
    "year = filtered.get('Year').iloc[0]\n",
    "year"
   ]
  },
  {
   "cell_type": "code",
   "execution_count": null,
   "metadata": {},
   "outputs": [],
   "source": [
    "top_hit_year = filtered.get('Top_Hit_Year').iloc[0]\n",
    "top_hit_year"
   ]
  },
  {
   "cell_type": "code",
   "execution_count": null,
   "metadata": {},
   "outputs": [],
   "source": [
    "def classify_artist(artist):\n",
    "    filtered = merged[merged.get('Artist')==artist]\n",
    "    year = filtered.get('Year').iloc[0]\n",
    "    top_hit_year = filtered.get('Top_Hit_Year').iloc[0]\n",
    "    if ... > 0:\n",
    "        return \"up-and-coming\" # top hit came out after they appeared at Sun God\n",
    "    elif ...:\n",
    "        return \"outdated\" # top hit came out more than five years prior\n",
    "    else:\n",
    "        return \"trending\" # top hit came out within the five years prior\n",
    "    \n",
    "classify_artist(\"OK Go\")"
   ]
  },
  {
   "cell_type": "markdown",
   "metadata": {},
   "source": [
    "## Question 9 (4 points)\n",
    "The expression below evaluates to True.\n",
    "```\n",
    "(\n",
    "classify_artist(\"Michelle Branch\")==\"outdated\"\n",
    "and\n",
    "classify_artist(\"Drake\")==\"trending\"\n",
    ")\n",
    "```\n",
    "\n",
    "Consider the scatterplot created by the code below.\n",
    "\n",
    "```merged.plot(kind=\"scatter\", x=\"Year\", y=\"Top_Hit_Year\");```\n",
    "\n",
    "The point for Drake is somewhere in this scatterplot. Relative to the point for Drake, there are four quadrants of the scatterplot, as shown below.\n",
    "\n",
    "There is one quadrant in which the point for Michelle Branch cannot appear. Which is it?\n",
    "\n",
    "1. northeast\n",
    "2. northwest\n",
    "3. southwest\n",
    "4. southeast\n",
    "\n",
    "**Solution: 2**"
   ]
  },
  {
   "cell_type": "code",
   "execution_count": null,
   "metadata": {},
   "outputs": [],
   "source": [
    "..."
   ]
  },
  {
   "cell_type": "code",
   "execution_count": null,
   "metadata": {},
   "outputs": [],
   "source": [
    "merged = merged.assign(classify = merged.get(\"Artist\").apply(classify_artist))\n",
    "merged"
   ]
  },
  {
   "cell_type": "code",
   "execution_count": null,
   "metadata": {
    "scrolled": true
   },
   "outputs": [],
   "source": [
    "# scatter plot\n",
    "ax = merged.plot(kind='scatter', x='Year', y='Top_Hit_Year', xlim = [1980, 2030], ylim = [1980, 2030]);\n",
    "merged.get(['Year','Top_Hit_Year','classify']).apply(lambda row: ax.text(*row),axis=1);\n",
    "ax.plot();\n",
    "s = bpd.DataFrame().assign(upx = [1980, 2030], upy = [1980, 2030], outx = [1980, 2030], outy = [1975, 2025])\n",
    "ax.plot(s.get(\"upx\"), s.get(\"upy\"), lw = 0.75, linestyle='dashed'); # plot line y = x\n",
    "ax.plot(s.get(\"outx\"), s.get(\"outy\"), lw = 0.75, linestyle='dashed', color = \"black\"); # plot line y = x-5"
   ]
  },
  {
   "cell_type": "markdown",
   "metadata": {},
   "source": [
    "Gray line: y = x-5, Blue line y = x\n",
    "- Outdated is below gray line: ```year - top_hit_year > 5``` ==> ```(x - y > 5)``` ==> ```(y < x - 5)```\n",
    "- Up-and-coming is above blue line: ```top_hit_year - year > 0``` ==> ```(y - x > 0)``` ==> ```(y > x)```\n",
    "- Trending is between gray and blue lines: ```year - top_hit_year <= 5``` and ```top_hit_year - year <= 0```\n",
    "\n",
    "Given a trending point,\n",
    "- Northeast (quadrant I): ...\n",
    "- Northwest (quadrant II): ...\n",
    "- Southwest (quadrant III): ...\n",
    "- Southeast (quadrant IV): ...\n",
    "\n",
    "Outdated cannot appear Northwest of a trending point"
   ]
  },
  {
   "cell_type": "markdown",
   "metadata": {},
   "source": [
    "## Question 10 (4 points)\n",
    "In 2014, the UCSD administration made some important changes to Sun God policies, including:\n",
    "\n",
    "1. eliminating guest tickets for non-students,\n",
    "2. increasing security, and\n",
    "3. introducing on-site medical care.\n",
    "\n",
    "These changes were implemented because of incidents related to drug and alcohol abuse at the festival. At the 2013 Sun God festival, 48 students were hospitalized, and at the 2014 festival, only 8 students were hospitalized. Assuming there was no change in the total number of attendees from 2013 to 2014, which of the following statements is correct?\n",
    "\n",
    "1. We cannot be sure if there is an association between administrative changes and hospitalizations.\n",
    "2. There is an association between administrative changes and hospitalizations. One or more of the administrative changes is responsible for the decrease in hospitalizations, but since several administrative changes happened at the same time, we can’t be sure of which one to credit with the reduction in hospitalizations.\n",
    "3. There is an association between administrative changes and hospitalizations. We can’t be sure if any of the administrative changes are responsible for the reduction in hospitalizations.\n",
    "4. None of the above.\n",
    "\n",
    "**Solution: 3**\n",
    "\n",
    "..."
   ]
  },
  {
   "cell_type": "markdown",
   "metadata": {},
   "source": [
    "## Question 11 (10 points)\n",
    "The fine print of the Sun God festival website says “Ticket does not guarantee entry. Venue subject to capacity restrictions.” RIMAC field, where the 2022 festival will be held, has a capacity of 20,000 people. Let’s say that UCSD distributes 21,000 tickets to Sun God 2022 because prior data shows that 5% of tickets distributed are never actually redeemed. Let’s suppose that each person with a ticket this year has a 5% chance of not attending (independently of all others). What is the probability that at least one student who has a ticket cannot get in due to the capacity restriction? Fill in the blanks in the code below so that prob angry student evaluates to an approximation of this probability.\n",
    "\n",
    "```\n",
    "num_angry = 0\n",
    "\n",
    "for rep in np.arange(10000):\n",
    "    # randomly choose 21000 elements from [True, False] such that\n",
    "    # True has probability 0.95, False has probability 0.05\n",
    "    attending = np.random.choice([True, False], 21000, p=[0.95, 0.05])\n",
    "    if ___(a)____:\n",
    "        ____(b)____\n",
    "\n",
    "prob_angry_student = ___(c)____\n",
    "```"
   ]
  },
  {
   "cell_type": "markdown",
   "metadata": {},
   "source": [
    "a) What goes in the first blank?\n",
    "1. ```np.count_nonzero(attending) == 20001```\n",
    "2. ```attending[20000] == False```\n",
    "3. ```attending.sum() > 20000```\n",
    "4. ```np.count_nonzero(attending) > num_angry```\n",
    "\n",
    "**Solution: 3**\n",
    "\n",
    "b) What goes in the second blank?\n",
    "\n",
    "**Solution:** ```num_angry = num_angry+1```\n",
    "\n",
    "c) What goes in the third blank?\n",
    "\n",
    "**Solution:** ```num_angry/1000```"
   ]
  },
  {
   "cell_type": "code",
   "execution_count": null,
   "metadata": {},
   "outputs": [],
   "source": [
    "num_angry = 0\n",
    "\n",
    "# randomly choose 21000 elements from [True, False] such that\n",
    "# True has probability 0.95, False has probability 0.05\n",
    "attending = np.random.choice([True, False], 21000, p=[0.95, 0.05])\n",
    "attending"
   ]
  },
  {
   "cell_type": "code",
   "execution_count": null,
   "metadata": {},
   "outputs": [],
   "source": [
    "# 1\n",
    "np.count_nonzero(attending) == 20001\n",
    "\n",
    "..."
   ]
  },
  {
   "cell_type": "code",
   "execution_count": null,
   "metadata": {},
   "outputs": [],
   "source": [
    "# 2\n",
    "attending[20000] == False\n",
    "attending[20000]"
   ]
  },
  {
   "cell_type": "code",
   "execution_count": null,
   "metadata": {},
   "outputs": [],
   "source": [
    "# 3\n",
    "attending.sum() > 20000"
   ]
  },
  {
   "cell_type": "code",
   "execution_count": null,
   "metadata": {},
   "outputs": [],
   "source": [
    "# 4\n",
    "np.count_nonzero(attending) > num_angry"
   ]
  },
  {
   "cell_type": "code",
   "execution_count": null,
   "metadata": {},
   "outputs": [],
   "source": [
    "num_angry = 0\n",
    "\n",
    "for rep in np.arange(10000):\n",
    "    # randomly choose 21000 elements from [True, False] such that\n",
    "    # True has probability 0.95, False has probability 0.05\n",
    "    attending = np.random.choice([True, False], 21000, p=[0.95, 0.05])\n",
    "    if attending.sum()>20000: #check if 20000 people show up\n",
    "        # (b) if more than 20000 show up,\n",
    "        # at least one student is angry for that rep\n",
    "        ...\n",
    "\n",
    "# (c) divide number of reps with at least one student angry \n",
    "# by total number of reps\n",
    "prob_angry_student = ..."
   ]
  },
  {
   "cell_type": "markdown",
   "metadata": {},
   "source": [
    "## Question 12 (6 points)\n",
    "a) You’re definitely going to Sun God 2022, but you don’t want to go alone! Fortunately, you have n friends who promise to go with you. Unfortunately, your friends are somewhat flaky, and each has a probability p of actually going (independent of all others). What is the probability that you wind up going alone? Give your answer in terms of p and n.\n",
    "\n",
    "**Solution: (1-p)^n**\n",
    "\n",
    "..."
   ]
  },
  {
   "cell_type": "markdown",
   "metadata": {},
   "source": [
    "b) In past Sun God festivals, sometimes artists that were part of the lineup have failed to show up! Let’s say there are n artists scheduled for Sun God 2022, and each artist has a probability p of showing up (independent of all others). What is the probability that the number of artists that show up is less than n, meaning somebody no-shows? Give your answer in terms of p and n.\n",
    "\n",
    "**Solution: 1 - p^n**\n",
    "\n",
    "..."
   ]
  }
 ],
 "metadata": {
  "kernelspec": {
   "display_name": "Python 3",
   "language": "python",
   "name": "python3"
  },
  "language_info": {
   "codemirror_mode": {
    "name": "ipython",
    "version": 3
   },
   "file_extension": ".py",
   "mimetype": "text/x-python",
   "name": "python",
   "nbconvert_exporter": "python",
   "pygments_lexer": "ipython3",
   "version": "3.7.9"
  }
 },
 "nbformat": 4,
 "nbformat_minor": 5
}
