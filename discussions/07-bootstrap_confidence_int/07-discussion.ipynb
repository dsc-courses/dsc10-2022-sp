{
 "cells": [
  {
   "cell_type": "markdown",
   "metadata": {},
   "source": [
    "# DSC 10 Discussion 07: Permutation Tests, Bootstapping & Confidence Intervals\n",
    "\n",
    "<img src=\"data/panda_tree.jpg\" width=\"500\">\n",
    "\n",
    "#### Extra\n",
    "- You can find additional help on [Permutation Tests](https://notes.dsc10.com/05-hypothesis_testing/2_permutation_tests.html) and [Bootstrapping Basics](https://notes.dsc10.com/06-estimation/1_bootstrap.html) in the Course Notes.\n",
    "- [Here](https://drive.google.com/file/d/1mQApk9Ovdi-QVqMgnNcq5dZcWucUKoG-/view) is a pointer to that reference sheet we saw last time."
   ]
  },
  {
   "cell_type": "markdown",
   "metadata": {},
   "source": [
    "# Permutation Testing (Review)\n",
    "\n",
    "###  A/B testing through simulation\n",
    "- Decide whether two random samples come from the same distribution\n",
    "- Statistic : difference between means\n",
    "- Null hypothesis : the two groups are sampled from the same distribution\n",
    "    - *PROBLEM* : we don't know what that distribution is!\n",
    "    \n",
    "### Permutation tests\n",
    "- We can't draw samples from a distribution like we're used to because we don't know what the distribution is!\n",
    "- Instead : randomly shuffle (permute) group labels during simulation\n",
    "    - Compute the \"difference in means\" test statistic between groups of shuffled data\n",
    "\n",
    "### Causation\n",
    "- Observational study - rejecting the null hypothesis does not establish causality \n",
    "    - Correlation â‰  causation\n",
    "    - Confounding factors\n",
    "- Randomized Controlled Trial (RCT)\n",
    "    - A/B test in a RCT does support causality"
   ]
  },
  {
   "cell_type": "code",
   "execution_count": 1,
   "metadata": {},
   "outputs": [],
   "source": [
    "import babypandas as bpd\n",
    "import numpy as np\n",
    "import matplotlib.pyplot as plt\n",
    "%matplotlib inline\n",
    "\n",
    "import otter\n",
    "grader = otter.Notebook()\n",
    "\n",
    "from notebook.services.config import ConfigManager\n",
    "\n",
    "cm = ConfigManager()\n",
    "cm.update(\n",
    "    \"livereveal\", {\n",
    "        'width': 1500,\n",
    "        'height': 700,\n",
    "        \"scroll\": True,\n",
    "})"
   ]
  },
  {
   "cell_type": "markdown",
   "metadata": {},
   "source": [
    "## Life expectancy data\n",
    "\n",
    "This data comes from the World Health Organization.  We can learn more about the meanings of the columns by looking here: https://www.kaggle.com/kumarajarshi/life-expectancy-who\n",
    "\n",
    "Let's travel back in time to the year 2015 and collect some data!  For the duration of this discussion, we're going to consider the following data to be our **\"population\"**.\n",
    "\n",
    "Let's take a look at it."
   ]
  },
  {
   "cell_type": "code",
   "execution_count": 2,
   "metadata": {},
   "outputs": [],
   "source": [
    "# load in all the data\n",
    "life_expectancy = bpd.read_csv(\"data/Life Expectancy Data.csv\")\n",
    "life_expectancy"
   ]
  },
  {
   "cell_type": "code",
   "execution_count": 3,
   "metadata": {},
   "outputs": [],
   "source": [
    "# choose only data from 2015\n",
    "recent_data = life_expectancy[life_expectancy.get(\"Year\") == 2015]\n",
    "recent_data"
   ]
  },
  {
   "cell_type": "markdown",
   "metadata": {},
   "source": [
    "## Sampling from the data\n",
    "\n",
    "From now on, the above data will be considered our population, so we will sample from this population to complete the following experiment.\n",
    "\n",
    "First let us therefore take a sample of 50 countries from the population."
   ]
  },
  {
   "cell_type": "code",
   "execution_count": 4,
   "metadata": {},
   "outputs": [],
   "source": [
    "# grab a sample\n",
    "recent_sample = recent_data.sample(50,replace=False).get([\"Status\",\"Life expectancy\"])\n",
    "recent_sample"
   ]
  },
  {
   "cell_type": "markdown",
   "metadata": {},
   "source": [
    "---"
   ]
  },
  {
   "cell_type": "markdown",
   "metadata": {},
   "source": [
    "## (Exercise) Section 1: Life expectancy and country status\n",
    "\n",
    "Question : **Is life expectancy of people born in developing countries significantly shorter than that of people born in developed countries?**"
   ]
  },
  {
   "cell_type": "markdown",
   "metadata": {},
   "source": [
    "### Question 1.1\n",
    "\n",
    "Set up the null and alterantive hypotheses for this experiment."
   ]
  },
  {
   "cell_type": "markdown",
   "metadata": {
    "deletable": false,
    "editable": false
   },
   "source": [
    "<!-- BEGIN QUESTION -->\n",
    "\n",
    "<!--\n",
    "BEGIN QUESTION\n",
    "name: q1_01\n",
    "manual: true\n",
    "-->"
   ]
  },
  {
   "cell_type": "markdown",
   "metadata": {},
   "source": [
    "_Type your answer here, replacing this text._"
   ]
  },
  {
   "cell_type": "markdown",
   "metadata": {},
   "source": [
    "<!-- END QUESTION -->\n",
    "\n",
    "\n",
    "\n",
    "### Question 1.2 \n",
    "\n",
    "How many countries in each group?"
   ]
  },
  {
   "cell_type": "code",
   "execution_count": 5,
   "metadata": {},
   "outputs": [],
   "source": [
    "countries_per_group = ...\n",
    "countries_per_group"
   ]
  },
  {
   "cell_type": "code",
   "execution_count": null,
   "metadata": {
    "deletable": false,
    "editable": false
   },
   "outputs": [],
   "source": [
    "grader.check(\"q1_02\")"
   ]
  },
  {
   "cell_type": "markdown",
   "metadata": {},
   "source": [
    "### Question 1.3\n",
    "\n",
    "What is the average life expectancy in each group?"
   ]
  },
  {
   "cell_type": "code",
   "execution_count": 7,
   "metadata": {},
   "outputs": [],
   "source": [
    "expectancy_per_group = ...\n",
    "expectancy_per_group"
   ]
  },
  {
   "cell_type": "code",
   "execution_count": null,
   "metadata": {
    "deletable": false,
    "editable": false
   },
   "outputs": [],
   "source": [
    "grader.check(\"q1_03\")"
   ]
  },
  {
   "cell_type": "markdown",
   "metadata": {},
   "source": [
    "### Question 1.4\n",
    "\n",
    "Visualize the distribution of life expectancy for each group in a histogram plot."
   ]
  },
  {
   "cell_type": "markdown",
   "metadata": {
    "deletable": false,
    "editable": false
   },
   "source": [
    "<!-- BEGIN QUESTION -->\n",
    "\n",
    "<!--\n",
    "BEGIN QUESTION\n",
    "name: q1_04\n",
    "manual: true\n",
    "-->"
   ]
  },
  {
   "cell_type": "code",
   "execution_count": 9,
   "metadata": {},
   "outputs": [],
   "source": [
    "# create a new dataframe for each group\n",
    "developed_expectancy = ...\n",
    "developing_expectancy = ...\n",
    "\n",
    "# check to make sure the counts match those from above\n",
    "print(f\"There are {developed_expectancy.shape[0]} developed countries and {developing_expectancy.shape[0]} developing countries\")"
   ]
  },
  {
   "cell_type": "markdown",
   "metadata": {
    "deletable": false,
    "editable": false
   },
   "source": [
    "<!-- END QUESTION -->"
   ]
  },
  {
   "cell_type": "code",
   "execution_count": 10,
   "metadata": {},
   "outputs": [],
   "source": [
    "# plot on a histogram\n",
    "fig, ax = plt.subplots()\n",
    "\n",
    "# first plot developed \n",
    "...\n",
    "\n",
    "# then plot developing\n",
    "...\n",
    "\n",
    "plt.legend([\"Developed\", \"Developing\"])\n",
    "graph = plt.xlabel(\"Life expectancy\")"
   ]
  },
  {
   "cell_type": "markdown",
   "metadata": {},
   "source": [
    "### Question 1.5\n",
    "\n",
    "What test statistic should we use to compare these two sample distributions? \n",
    "Decide on which test statistic is best then compute it for the observered sample.\n",
    "\n",
    "Hint (use ```expectancy_per_group``` from above)"
   ]
  },
  {
   "cell_type": "code",
   "execution_count": 11,
   "metadata": {},
   "outputs": [],
   "source": [
    "# observed test statistic\n",
    "test_statistic_name = ...\n",
    "\n",
    "observed_test_statistic = ...\n",
    "observed_test_statistic"
   ]
  },
  {
   "cell_type": "code",
   "execution_count": null,
   "metadata": {
    "deletable": false,
    "editable": false
   },
   "outputs": [],
   "source": [
    "grader.check(\"q1_05\")"
   ]
  },
  {
   "cell_type": "markdown",
   "metadata": {},
   "source": [
    "### Question 1.6\n",
    "\n",
    "Randomly permute the life expectancy (or the group labels) and create a new dataframe based on ```recent_sample``` with an additional column."
   ]
  },
  {
   "cell_type": "code",
   "execution_count": 13,
   "metadata": {},
   "outputs": [],
   "source": [
    "original_and_shuffled = recent_sample.assign(\n",
    "    shuffled_life_expectancy = ...\n",
    ")\n",
    "original_and_shuffled"
   ]
  },
  {
   "cell_type": "code",
   "execution_count": null,
   "metadata": {
    "deletable": false,
    "editable": false
   },
   "outputs": [],
   "source": [
    "grader.check(\"q1_06\")"
   ]
  },
  {
   "cell_type": "markdown",
   "metadata": {},
   "source": [
    "### Question 1.7\n",
    "\n",
    "Compute the mean life expectancy for each group in the newly permuted data.\n",
    "\n",
    "What do you notice?"
   ]
  },
  {
   "cell_type": "code",
   "execution_count": 16,
   "metadata": {},
   "outputs": [],
   "source": [
    "diff_between_means = ...\n",
    "diff_between_means"
   ]
  },
  {
   "cell_type": "code",
   "execution_count": null,
   "metadata": {
    "deletable": false,
    "editable": false
   },
   "outputs": [],
   "source": [
    "grader.check(\"q1_07\")"
   ]
  },
  {
   "cell_type": "markdown",
   "metadata": {},
   "source": [
    "### Question 1.8\n",
    "\n",
    "Is it not clear? Let's try taking the mean difference"
   ]
  },
  {
   "cell_type": "code",
   "execution_count": 18,
   "metadata": {},
   "outputs": [],
   "source": [
    "obs_mean_difference = ...\n",
    "obs_mean_difference"
   ]
  },
  {
   "cell_type": "markdown",
   "metadata": {},
   "source": [
    "### Question 1.9\n",
    "Wow! That's a huge difference? Could it be chance? Let's repeat this 5000 times and store the shuffled difference in an array"
   ]
  },
  {
   "cell_type": "code",
   "execution_count": 19,
   "metadata": {},
   "outputs": [],
   "source": [
    "simulated_stats = np.array([]) # BEGIN SOLUTION\n",
    "num_observations = 5000 # BEGIN SOLUTION\n",
    "\n",
    "...\n",
    "simulated_stats\n",
    "    "
   ]
  },
  {
   "cell_type": "code",
   "execution_count": null,
   "metadata": {
    "deletable": false,
    "editable": false
   },
   "outputs": [],
   "source": [
    "grader.check(\"q1_09\")"
   ]
  },
  {
   "cell_type": "markdown",
   "metadata": {},
   "source": [
    "### Question 1.10\n",
    "\n",
    "Doesn't look like we can blame these differences on chance (assuming our null hypothesis is true). Let's see the likelihood of our observed difference given this result."
   ]
  },
  {
   "cell_type": "code",
   "execution_count": 21,
   "metadata": {},
   "outputs": [],
   "source": [
    "p_val = ...\n",
    "p_val"
   ]
  },
  {
   "cell_type": "code",
   "execution_count": null,
   "metadata": {
    "deletable": false,
    "editable": false
   },
   "outputs": [],
   "source": [
    "grader.check(\"q1_10\")"
   ]
  },
  {
   "cell_type": "code",
   "execution_count": 23,
   "metadata": {},
   "outputs": [],
   "source": [
    "bpd.DataFrame().assign(DifferenceInMeans=simulated_stats).plot(kind='hist', bins=9, density=True, ec='w', figsize=(10, 5));\n",
    "plt.axvline(observed_test_statistic, color='red', label='observed difference')\n",
    "plt.legend();"
   ]
  },
  {
   "cell_type": "markdown",
   "metadata": {},
   "source": [
    "### Question 1.11\n",
    "\n",
    "Can we say that life expectancy of people born in developing countries is shorter than that of people born in developing countries?"
   ]
  },
  {
   "cell_type": "code",
   "execution_count": 24,
   "metadata": {},
   "outputs": [],
   "source": [
    "reject_null_hypothesis = ...\n",
    "reject_null_hypothesis"
   ]
  },
  {
   "cell_type": "code",
   "execution_count": null,
   "metadata": {
    "deletable": false,
    "editable": false
   },
   "outputs": [],
   "source": [
    "grader.check(\"q1_11\")"
   ]
  },
  {
   "cell_type": "markdown",
   "metadata": {},
   "source": [
    "### Question 1.12\n",
    "\n",
    "Can we conclude that lower/higher life expectancy directly causes the nation to be more/less developed or vice-versa?"
   ]
  },
  {
   "cell_type": "code",
   "execution_count": 26,
   "metadata": {},
   "outputs": [],
   "source": [
    "conclude_causation = ...\n",
    "conclude_causation"
   ]
  },
  {
   "cell_type": "code",
   "execution_count": null,
   "metadata": {
    "deletable": false,
    "editable": false
   },
   "outputs": [],
   "source": [
    "grader.check(\"q1_12\")"
   ]
  },
  {
   "cell_type": "markdown",
   "metadata": {},
   "source": [
    "No, you cannot determine causation since this is observational data. There might be lot of other factors that can link life expectancy to nation's development."
   ]
  },
  {
   "cell_type": "markdown",
   "metadata": {},
   "source": [
    "---"
   ]
  },
  {
   "cell_type": "markdown",
   "metadata": {},
   "source": [
    "# Bootstrapping - sampling within a sample\n",
    "- Problem : statistics about the data population are often unavailable, costly to acquire, unknown, etc.\n",
    "- Solution : utilize random sampling (and re-sampling) of available data to estimate population statistics\n",
    "    - The result of bootstrapping will be a distribution over sample statistics!\n",
    "    - Hopefully we'll see that these *sample statistics* $\\approx$ *population statistics*\n",
    "    \n",
    "### Bootstrapping basic procedure\n",
    "- Sample from the population\n",
    "- Re-sample from that same sample (make sure to have replace=True!)\n",
    "- Repeat\n",
    "- **Note** - after re-sampling, we will likely see duplicate data entries within a single sample, but that's okay! \n",
    "    - If we didn't have duplicates, then we would have the same exact data in every single sample (this would be bad!)\n",
    "\n",
    "# Bootstrapped Confidence Intervals\n",
    "- Goal : return a range of values that we are confident contain the true population statistic \n",
    "    - Bootstrapping gives us a distribution of sample statistics\n",
    "    - The true population statistic often lies within the bulk of that distribution \n",
    "- $X$% confidence interval \n",
    "    - Interpretation\n",
    "        - **YES**: $X$% of all bootstrapped sample statistics fall within that interval\n",
    "        - **YES**: ~$X$% of the time, the interval will capture the correct population statistic\n",
    "        - **YES**: I'm $X$% sure that the true population statistic is in the interval\n",
    "        - **NO**: the true population statistic has an $X$% change of being in the interval\n",
    "    - Computation\n",
    "        - Use $\\frac{100-X}{2}$ and $100-\\frac{100-X}{2}$ for lower and upper percentiles\n",
    "        \n",
    "### CIs for testing\n",
    "- Given P-value $p$ and null hypothesis \"population statistic = $a$\":\n",
    "    - Construct $(100-p)$ CI for populatiton statistic\n",
    "    - Reject null hypothesis if $a$ is not in the interval\n",
    "\n",
    "# Describing a Distribution : Mean and Spread\n",
    "- Center of a distribution \n",
    "    - *Mean* : balance point\n",
    "    - *Median* : half-way point (robust to outliers) \n",
    "- Spread of distribution \n",
    "    - *Range* : biggest - smallest\n",
    "    - *Standard deviation* : variability around the mean\n",
    "- Chebyshev's Inequality\n",
    "    - Proportion of values in the range \"average $\\pm\\ z$ SDs\" is â‰¥ $1-\\frac{1}{z^2}$\n",
    "- Looking forward\n",
    "    - We'll look at other types of distributions and ones that can be parameterized "
   ]
  },
  {
   "cell_type": "markdown",
   "metadata": {},
   "source": [
    "# Section 2: Sampling and bootstrapping\n",
    "\n",
    "Here we'll take a look at the same life expectancy data and do some sampling exercises."
   ]
  },
  {
   "cell_type": "markdown",
   "metadata": {},
   "source": [
    "<div style=\"padding: 15px; border: 1px solid transparent; border-color: transparent; margin-bottom: 20px; border-radius: 4px; color: #3c763d; background-color: #dff0d8; border-color: #d6e9c6;\">\n",
    "  \n",
    "Quick outline\n",
    "- data : life expectancy \n",
    "- population : all countries\n",
    "- sample : smaller random selection of countries\n",
    "- visualizations : histograms of life expectancy data and mean\n",
    "    \n",
    "</div>"
   ]
  },
  {
   "cell_type": "code",
   "execution_count": 28,
   "metadata": {},
   "outputs": [],
   "source": [
    "recent_data"
   ]
  },
  {
   "cell_type": "code",
   "execution_count": 29,
   "metadata": {},
   "outputs": [],
   "source": [
    "# Let's visualize our population distribution.\n",
    "\n",
    "# Defining a function to create bins easily\n",
    "def get_bins(array, bin_size=1):\n",
    "    smallestNum = int(array.min())\n",
    "    \n",
    "    largestNum = int(array.max())\n",
    "    upperLimit = largestNum + bin_size + 1\n",
    "    \n",
    "    return np.arange(smallestNum, upperLimit, bin_size)"
   ]
  },
  {
   "cell_type": "code",
   "execution_count": 30,
   "metadata": {},
   "outputs": [],
   "source": [
    "measured = recent_data.get(\"Life expectancy\")\n",
    "\n",
    "#generate number of bins\n",
    "n_bins = get_bins(measured, 1) # <-- Try playing around with the bin size\n",
    "\n",
    "#lets plot the histogram\n",
    "recent_data.get('Life expectancy').plot(kind='hist', bins=n_bins, density=True)"
   ]
  },
  {
   "cell_type": "code",
   "execution_count": 31,
   "metadata": {},
   "outputs": [],
   "source": [
    "# Let's check the population mean\n",
    "pop_mean = recent_data.get('Life expectancy').mean()\n",
    "pop_mean"
   ]
  },
  {
   "cell_type": "markdown",
   "metadata": {},
   "source": [
    "### Question 2.1\n",
    "Is this the population distribution or sample distribution?"
   ]
  },
  {
   "cell_type": "markdown",
   "metadata": {
    "deletable": false,
    "editable": false
   },
   "source": [
    "<!-- BEGIN QUESTION -->\n",
    "\n",
    "<!--\n",
    "BEGIN QUESTION\n",
    "name: q2_01\n",
    "manual: true\n",
    "-->"
   ]
  },
  {
   "cell_type": "markdown",
   "metadata": {},
   "source": [
    "_Type your answer here, replacing this text._"
   ]
  },
  {
   "cell_type": "markdown",
   "metadata": {},
   "source": [
    "<!-- END QUESTION -->\n",
    "\n",
    "\n",
    "\n",
    "## So, what is our aim?  \n",
    "\n",
    "We want to estimate the average life expectancy for the globe!  Let's say we don't have access to the entire population (which is the case usually)\n",
    "\n",
    "Flying around the world is pretty expensive, so we can only collect data from 15 countries.\n",
    "\n",
    "We can sampling and use bootstrapping to find this.\n"
   ]
  },
  {
   "cell_type": "code",
   "execution_count": 32,
   "metadata": {},
   "outputs": [],
   "source": [
    "# different sample sizes\n",
    "\n",
    "num_samples = 40\n",
    "\n",
    "# num_samples = 50"
   ]
  },
  {
   "cell_type": "code",
   "execution_count": 33,
   "metadata": {},
   "outputs": [],
   "source": [
    "# How do we create a representative sample?\n",
    "collected = recent_data.sample(n=num_samples, replace=False)\n",
    "collected"
   ]
  },
  {
   "cell_type": "code",
   "execution_count": 34,
   "metadata": {},
   "outputs": [],
   "source": [
    "#we need new bin sizes\n",
    "n_bins = get_bins(collected.get('Life expectancy'),1)\n",
    "\n",
    "#lets plot the histogram\n",
    "plt.title(\"Sample Distribution\")\n",
    "collected.get('Life expectancy').plot(kind='hist', bins=n_bins, density=True)\n",
    "plt.show()"
   ]
  },
  {
   "cell_type": "markdown",
   "metadata": {},
   "source": [
    "### Question 2.2\n",
    "\n",
    "Is this the population distribution or sample distribution?"
   ]
  },
  {
   "cell_type": "markdown",
   "metadata": {
    "deletable": false,
    "editable": false
   },
   "source": [
    "<!-- BEGIN QUESTION -->\n",
    "\n",
    "<!--\n",
    "BEGIN QUESTION\n",
    "name: q2_02\n",
    "manual: true\n",
    "-->"
   ]
  },
  {
   "cell_type": "markdown",
   "metadata": {},
   "source": [
    "_Type your answer here, replacing this text._"
   ]
  },
  {
   "cell_type": "markdown",
   "metadata": {},
   "source": [
    "<!-- END QUESTION -->\n",
    "\n",
    "\n",
    "\n",
    "We're interested in estimating the mean life expectancy.  So, let's find the mean of our sample."
   ]
  },
  {
   "cell_type": "code",
   "execution_count": 35,
   "metadata": {},
   "outputs": [],
   "source": [
    "sample_mean = collected.get('Life expectancy').mean()\n",
    "sample_mean"
   ]
  },
  {
   "cell_type": "code",
   "execution_count": 36,
   "metadata": {},
   "outputs": [],
   "source": [
    "# We can show our mean in relation to the sample:\n",
    "\n",
    "#plot the historgram again\n",
    "collected.get('Life expectancy').plot(kind='hist', bins=n_bins, density=True)\n",
    "\n",
    "#draw the sample mean\n",
    "plt.title(\"Sample Mean\")\n",
    "plt.axvline(sample_mean, c='r')\n",
    "plt.show()"
   ]
  },
  {
   "cell_type": "markdown",
   "metadata": {},
   "source": [
    "### Question 2.3\n",
    "\n",
    "Is this sample mean or population mean? Does this change by the taking a new sample?"
   ]
  },
  {
   "cell_type": "markdown",
   "metadata": {
    "deletable": false,
    "editable": false
   },
   "source": [
    "<!-- BEGIN QUESTION -->\n",
    "\n",
    "<!--\n",
    "BEGIN QUESTION\n",
    "name: q2_03\n",
    "manual: true\n",
    "-->"
   ]
  },
  {
   "cell_type": "markdown",
   "metadata": {},
   "source": [
    "_Type your answer here, replacing this text._"
   ]
  },
  {
   "cell_type": "markdown",
   "metadata": {},
   "source": [
    "<!-- END QUESTION -->\n",
    "\n",
    "\n",
    "\n",
    "## Resampling\n",
    "\n",
    "What happens when we resample?\n",
    "\n",
    "**Resampling means not taking a new sample, but sampling from the single sample with replacement.** We do this since getting different samples is difficult in real world scenarios."
   ]
  },
  {
   "cell_type": "code",
   "execution_count": 37,
   "metadata": {},
   "outputs": [],
   "source": [
    "# Run this multiple time to see what changes.\n",
    "\n",
    "resampled = collected.sample(num_samples,replace=True)\n",
    "resampled_mean = resampled.get('Life expectancy').mean()\n",
    "n_bins = get_bins(collected.get('Life expectancy'), 1)\n",
    "\n",
    "print(\"The resampled mean is:\\t\\t\", resampled_mean, \"\\nCompared to the original sample:\", sample_mean)\n",
    "\n",
    "#plot the historgram again\n",
    "resampled.get('Life expectancy').plot(kind='hist', bins=n_bins, density=True)\n",
    "\n",
    "#lets show the sampled_mean and resampled_mean\n",
    "plt.title(\"Resampled mean\")\n",
    "plt.axvline(resampled_mean, c='r')\n",
    "plt.axvline(sample_mean, c='b')\n",
    "plt.show()"
   ]
  },
  {
   "cell_type": "markdown",
   "metadata": {},
   "source": [
    "### Question 2.4\n",
    "\n",
    "Is this a sample mean or resampled mean?"
   ]
  },
  {
   "cell_type": "markdown",
   "metadata": {
    "deletable": false,
    "editable": false
   },
   "source": [
    "<!-- BEGIN QUESTION -->\n",
    "\n",
    "<!--\n",
    "BEGIN QUESTION\n",
    "name: q2_04\n",
    "manual: true\n",
    "-->"
   ]
  },
  {
   "cell_type": "markdown",
   "metadata": {},
   "source": [
    "_Type your answer here, replacing this text._"
   ]
  },
  {
   "cell_type": "markdown",
   "metadata": {},
   "source": [
    "<!-- END QUESTION -->\n",
    "\n",
    "\n",
    "\n",
    "Now, let's run the bootstrap so we can create a distribution!"
   ]
  },
  {
   "cell_type": "code",
   "execution_count": 38,
   "metadata": {},
   "outputs": [],
   "source": [
    "sample_means = np.array([])\n",
    "\n",
    "for i in range(5000):\n",
    "    bootstrapped = collected.sample(num_samples,replace=True)\n",
    "    boot_mean = bootstrapped.get('Life expectancy').mean()\n",
    "    sample_means = np.append(sample_means, boot_mean)\n",
    "    \n",
    "\n",
    "plt.title(\"Distribution of Sample Means\")\n",
    "plt.hist(sample_means, bins=get_bins(sample_means, 0.5))\n",
    "plt.show()"
   ]
  },
  {
   "cell_type": "markdown",
   "metadata": {},
   "source": [
    "### Question 2.5 \n",
    "\n",
    "What is this distribution?"
   ]
  },
  {
   "cell_type": "markdown",
   "metadata": {
    "deletable": false,
    "editable": false
   },
   "source": [
    "<!-- BEGIN QUESTION -->\n",
    "\n",
    "<!--\n",
    "BEGIN QUESTION\n",
    "name: q2_05\n",
    "manual: true\n",
    "-->"
   ]
  },
  {
   "cell_type": "markdown",
   "metadata": {},
   "source": [
    "_Type your answer here, replacing this text._"
   ]
  },
  {
   "cell_type": "markdown",
   "metadata": {},
   "source": [
    "<!-- END QUESTION -->\n",
    "\n",
    "\n",
    "\n",
    "### Compare with the popultation mean too!\n",
    "- comparing population mean to the distribution of sample means"
   ]
  },
  {
   "cell_type": "code",
   "execution_count": 39,
   "metadata": {},
   "outputs": [],
   "source": [
    "plt.hist(sample_means, bins=get_bins(sample_means, 0.5))\n",
    "plt.scatter(pop_mean, 0, color='red', s=80).set_zorder(2)"
   ]
  },
  {
   "cell_type": "markdown",
   "metadata": {},
   "source": [
    "# So now what? \n",
    "\n",
    "- What conclusions can we make about the **population mean** based on our distribution of sample means?"
   ]
  },
  {
   "cell_type": "markdown",
   "metadata": {},
   "source": [
    "---"
   ]
  },
  {
   "cell_type": "markdown",
   "metadata": {},
   "source": [
    "# Section 3: Confidence Intervals\n",
    "\n",
    "- We would like to come up with a range of values that contain X% of all bootstrapped sample means. \n",
    "- This interval corresponds to an X% confidence interval\n",
    "\n",
    "### How to do this?\n",
    "- We need our array of sample means and we need to compute a few percentiles based on what X% confidence interval we'd like to return"
   ]
  },
  {
   "cell_type": "markdown",
   "metadata": {},
   "source": [
    "### Question 3.1 \n",
    "Suppose we'd like to construct 90% and 82% Confidence Intervals over some statistic.\n",
    "\n",
    "What are the upper and lower percentiles we need in each case?"
   ]
  },
  {
   "cell_type": "code",
   "execution_count": 40,
   "metadata": {},
   "outputs": [],
   "source": [
    "# compute the lower percentile given a confidence interval\n",
    "def compute_lower_percentile(perc_conf):\n",
    "    \n",
    "    lower_perc = ...\n",
    "    \n",
    "    return lower_perc\n",
    "\n",
    "# compute the upper percentile given a confidence interval\n",
    "def compute_upper_percentile(perc_conf):\n",
    "    \n",
    "    upper_perc = ...\n",
    "    \n",
    "    return upper_perc"
   ]
  },
  {
   "cell_type": "code",
   "execution_count": 41,
   "metadata": {},
   "outputs": [],
   "source": [
    "lower_perc_90 = ...\n",
    "print(f\"Lower percentile for 90% C.I. : {lower_perc_90}\")\n",
    "\n",
    "upper_perc_90 = ...\n",
    "print(f\"Upper percentile for 90% C.I. : {upper_perc_90}\")"
   ]
  },
  {
   "cell_type": "code",
   "execution_count": 42,
   "metadata": {},
   "outputs": [],
   "source": [
    "lower_perc_82 = ...\n",
    "print(f\"Lower percentile for 82% C.I. : {lower_perc_82}\")\n",
    "\n",
    "upper_perc_82 = ...\n",
    "print(f\"Upper percentile for 82% C.I. : {upper_perc_82}\")"
   ]
  },
  {
   "cell_type": "markdown",
   "metadata": {},
   "source": [
    "### Question 3.2 \n",
    "\n",
    "Which of the two confidence intervals (90% or 82%) is larger? Why?"
   ]
  },
  {
   "cell_type": "code",
   "execution_count": 43,
   "metadata": {},
   "outputs": [],
   "source": [
    "# choose 90 or 82\n",
    " \n",
    "larger_ci = ...\n",
    "\n",
    "..."
   ]
  },
  {
   "cell_type": "markdown",
   "metadata": {},
   "source": [
    "### Question 3.3\n",
    "\n",
    "Compute the upper and lower bounds of a 95% confidence interval for our ```sample_means``` data from above."
   ]
  },
  {
   "cell_type": "code",
   "execution_count": 44,
   "metadata": {},
   "outputs": [],
   "source": [
    "def compute_ci(confidence_level, sample_means):\n",
    "\n",
    "    # What is the mean we're estimating?\n",
    "    mean = ...\n",
    "\n",
    "    # What are the percentiles?\n",
    "    # Use the functions we made above\n",
    "    lower_perc = ...\n",
    "    upper_perc = ...\n",
    "\n",
    "    # And then our lower and upper bounds?\n",
    "    lower_bound = ...\n",
    "    upper_bound = ...\n",
    "\n",
    "    # Printing it out so we can easily see our results.\n",
    "    print(\"\"\"\n",
    "    Mean:\\t{}\n",
    "\n",
    "    Lower Percentile:\\t{}\n",
    "    Upper Percentile:\\t{}\n",
    "\n",
    "    Lower Bound:\\t{}\n",
    "    Upper Bound:\\t{}\n",
    "\n",
    "    Confidence Level:\\t{}%\n",
    "    \"\"\".format(mean, lower_perc, upper_perc, lower_bound, upper_bound, confidence_level))\n",
    "    \n",
    "    return lower_bound, upper_bound"
   ]
  },
  {
   "cell_type": "code",
   "execution_count": 45,
   "metadata": {},
   "outputs": [],
   "source": [
    "confidence_level = ...\n",
    "\n",
    "# compute the ci\n",
    "..."
   ]
  },
  {
   "cell_type": "markdown",
   "metadata": {},
   "source": [
    "### Lets visualize the confidence interval on the histogram from earlier"
   ]
  },
  {
   "cell_type": "code",
   "execution_count": 46,
   "metadata": {},
   "outputs": [],
   "source": [
    "def plot_ci(ci, lower_bound, upper_bound, sample_means, pop_mean):\n",
    "    plt.title(f\"{ci}% confidence interval\")\n",
    "    plt.hist(sample_means, bins=get_bins(sample_means, 0.5))\n",
    "    plt.scatter(pop_mean, 0, color='red', s=80).set_zorder(3)\n",
    "    plt.plot([lower_bound, upper_bound], [0,0], color='lime', linewidth=4, zorder=2)"
   ]
  },
  {
   "cell_type": "code",
   "execution_count": 47,
   "metadata": {},
   "outputs": [],
   "source": [
    "plot_ci(confidence_level, lower_bound, upper_bound, sample_means, pop_mean)"
   ]
  },
  {
   "cell_type": "markdown",
   "metadata": {},
   "source": [
    "### Question 3.4\n",
    "Interpret what the confidence interval means in the context of this problem. "
   ]
  },
  {
   "cell_type": "code",
   "execution_count": 48,
   "metadata": {},
   "outputs": [],
   "source": [
    "interpretation = ..."
   ]
  },
  {
   "cell_type": "code",
   "execution_count": 49,
   "metadata": {},
   "outputs": [],
   "source": [
    "lower_bound"
   ]
  },
  {
   "cell_type": "code",
   "execution_count": 50,
   "metadata": {},
   "outputs": [],
   "source": [
    "upper_bound"
   ]
  },
  {
   "cell_type": "markdown",
   "metadata": {},
   "source": [
    "### Question 3.5\n",
    "\n",
    "Compute 100%, 80%, and 50% confidence intervals using the same ```sample_means``` and visualize the results of each."
   ]
  },
  {
   "cell_type": "code",
   "execution_count": 51,
   "metadata": {},
   "outputs": [],
   "source": [
    "# compute the bounds\n",
    "print(\"100% CI\")\n",
    "...\n",
    "\n",
    "print(\"80% CI\")\n",
    "...\n",
    "\n",
    "print(\"50% CI\")\n",
    "..."
   ]
  },
  {
   "cell_type": "code",
   "execution_count": 52,
   "metadata": {},
   "outputs": [],
   "source": [
    "# visualize the results\n",
    "plot_ci(100, lower_100, upper_100, sample_means, pop_mean)\n",
    "plot_ci(80, lower_80, upper_80, sample_means, pop_mean)\n",
    "plot_ci(50, lower_50, upper_50, sample_means, pop_mean)"
   ]
  },
  {
   "cell_type": "markdown",
   "metadata": {},
   "source": [
    "### Question 3.6\n",
    "\n",
    "Do any of the above confidence intervals (100%, 95%, 80%, 50%) NOT contain the true population mean?"
   ]
  },
  {
   "cell_type": "code",
   "execution_count": 53,
   "metadata": {},
   "outputs": [],
   "source": [
    "pop_mean"
   ]
  },
  {
   "cell_type": "code",
   "execution_count": 54,
   "metadata": {},
   "outputs": [],
   "source": [
    "# answer True or False\n",
    "exists_interval = ...\n",
    "exists_interval"
   ]
  },
  {
   "cell_type": "markdown",
   "metadata": {},
   "source": [
    "### Question 3.7\n",
    "\n",
    "Is it possible for the 80% confidence interval to contain the true population mean while the 95% confidence interval does not?"
   ]
  },
  {
   "cell_type": "code",
   "execution_count": 55,
   "metadata": {},
   "outputs": [],
   "source": [
    "# answer True or False\n",
    "possible = ...\n",
    "possible"
   ]
  }
 ],
 "metadata": {
  "kernelspec": {
   "display_name": "Python 3",
   "language": "python",
   "name": "python3"
  },
  "language_info": {
   "codemirror_mode": {
    "name": "ipython",
    "version": 3
   },
   "file_extension": ".py",
   "mimetype": "text/x-python",
   "name": "python",
   "nbconvert_exporter": "python",
   "pygments_lexer": "ipython3",
   "version": "3.7.9"
  }
 },
 "nbformat": 4,
 "nbformat_minor": 2
}
